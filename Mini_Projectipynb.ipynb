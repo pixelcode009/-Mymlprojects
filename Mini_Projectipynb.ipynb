{
  "nbformat": 4,
  "nbformat_minor": 0,
  "metadata": {
    "colab": {
      "name": "Mini Projectipynb",
      "provenance": [],
      "collapsed_sections": [],
      "toc_visible": true,
      "authorship_tag": "ABX9TyO8gmZ7mjpOKkAb7uBH8WyI",
      "include_colab_link": true
    },
    "kernelspec": {
      "name": "python3",
      "display_name": "Python 3"
    }
  },
  "cells": [
    {
      "cell_type": "markdown",
      "metadata": {
        "id": "view-in-github",
        "colab_type": "text"
      },
      "source": [
        "<a href=\"https://colab.research.google.com/github/pixelcode009/-Mymlprojects/blob/master/Mini_Projectipynb.ipynb\" target=\"_parent\"><img src=\"https://colab.research.google.com/assets/colab-badge.svg\" alt=\"Open In Colab\"/></a>"
      ]
    },
    {
      "cell_type": "code",
      "metadata": {
        "id": "Gf-Y1ILGmJH_",
        "colab_type": "code",
        "colab": {
          "resources": {
            "http://localhost:8080/nbextensions/google.colab/files.js": {
              "data": "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",
              "ok": true,
              "headers": [
                [
                  "content-type",
                  "application/javascript"
                ]
              ],
              "status": 200,
              "status_text": ""
            }
          },
          "base_uri": "https://localhost:8080/",
          "height": 73
        },
        "outputId": "7a57609c-630f-468a-b99b-c909b47c5eb0"
      },
      "source": [
        "from google.colab import files\n",
        "uploaded = files.upload()\n"
      ],
      "execution_count": null,
      "outputs": [
        {
          "output_type": "display_data",
          "data": {
            "text/html": [
              "\n",
              "     <input type=\"file\" id=\"files-821ad17a-d878-45a2-bfc4-0457460927d9\" name=\"files[]\" multiple disabled\n",
              "        style=\"border:none\" />\n",
              "     <output id=\"result-821ad17a-d878-45a2-bfc4-0457460927d9\">\n",
              "      Upload widget is only available when the cell has been executed in the\n",
              "      current browser session. Please rerun this cell to enable.\n",
              "      </output>\n",
              "      <script src=\"/nbextensions/google.colab/files.js\"></script> "
            ],
            "text/plain": [
              "<IPython.core.display.HTML object>"
            ]
          },
          "metadata": {
            "tags": []
          }
        },
        {
          "output_type": "stream",
          "text": [
            "Saving cardioActivities.csv to cardioActivities (1).csv\n"
          ],
          "name": "stdout"
        }
      ]
    },
    {
      "cell_type": "markdown",
      "metadata": {
        "id": "Sw_mlrfHu1ky",
        "colab_type": "text"
      },
      "source": [
        "## **TASK-1**\n",
        "Take an in-depth analytical look at my training. Its time to analyze running data to see how is performance import the data and start exploring to find potential problems. After that, create data cleaning strategies to fix the issues. Finally, analyze and visualize the clean time-series data. data has seven years worth of training data, from 2012 through 2018. The data is a CSV file where each row is a single training activity. Let's load and inspect it."
      ]
    },
    {
      "cell_type": "code",
      "metadata": {
        "id": "b1K_MEv98MoV",
        "colab_type": "code",
        "colab": {
          "base_uri": "https://localhost:8080/",
          "height": 295
        },
        "outputId": "71036ef4-72c2-4022-9dab-d12f1167d28c"
      },
      "source": [
        "#apart from .upload method from google colab, we can also use:\n",
        "\n",
        "import pandas as pd\n",
        "rf=pd.read_csv('cardioActivities.csv')\n",
        "rf.head()\n"
      ],
      "execution_count": null,
      "outputs": [
        {
          "output_type": "execute_result",
          "data": {
            "text/html": [
              "<div>\n",
              "<style scoped>\n",
              "    .dataframe tbody tr th:only-of-type {\n",
              "        vertical-align: middle;\n",
              "    }\n",
              "\n",
              "    .dataframe tbody tr th {\n",
              "        vertical-align: top;\n",
              "    }\n",
              "\n",
              "    .dataframe thead th {\n",
              "        text-align: right;\n",
              "    }\n",
              "</style>\n",
              "<table border=\"1\" class=\"dataframe\">\n",
              "  <thead>\n",
              "    <tr style=\"text-align: right;\">\n",
              "      <th></th>\n",
              "      <th>Date</th>\n",
              "      <th>Activity Id</th>\n",
              "      <th>Type</th>\n",
              "      <th>Route Name</th>\n",
              "      <th>Distance (km)</th>\n",
              "      <th>Duration</th>\n",
              "      <th>Average Pace</th>\n",
              "      <th>Average Speed (km/h)</th>\n",
              "      <th>Calories Burned</th>\n",
              "      <th>Climb (m)</th>\n",
              "      <th>Average Heart Rate (bpm)</th>\n",
              "      <th>Friends Tagged</th>\n",
              "      <th>Notes</th>\n",
              "      <th>GPX File</th>\n",
              "    </tr>\n",
              "  </thead>\n",
              "  <tbody>\n",
              "    <tr>\n",
              "      <th>0</th>\n",
              "      <td>2018-11-11 14:05:12</td>\n",
              "      <td>c9627fed-14ac-47a2-bed3-2a2630c63c15</td>\n",
              "      <td>Running</td>\n",
              "      <td>NaN</td>\n",
              "      <td>10.44</td>\n",
              "      <td>58:40</td>\n",
              "      <td>5:37</td>\n",
              "      <td>10.68</td>\n",
              "      <td>774.0</td>\n",
              "      <td>130</td>\n",
              "      <td>159.0</td>\n",
              "      <td>NaN</td>\n",
              "      <td>NaN</td>\n",
              "      <td>2018-11-11-140512.gpx</td>\n",
              "    </tr>\n",
              "    <tr>\n",
              "      <th>1</th>\n",
              "      <td>2018-11-09 15:02:35</td>\n",
              "      <td>be65818d-a801-4847-a43b-2acdf4dc70e7</td>\n",
              "      <td>Running</td>\n",
              "      <td>NaN</td>\n",
              "      <td>12.84</td>\n",
              "      <td>1:14:12</td>\n",
              "      <td>5:47</td>\n",
              "      <td>10.39</td>\n",
              "      <td>954.0</td>\n",
              "      <td>168</td>\n",
              "      <td>159.0</td>\n",
              "      <td>NaN</td>\n",
              "      <td>NaN</td>\n",
              "      <td>2018-11-09-150235.gpx</td>\n",
              "    </tr>\n",
              "    <tr>\n",
              "      <th>2</th>\n",
              "      <td>2018-11-04 16:05:00</td>\n",
              "      <td>c09b2f92-f855-497c-b624-c196b3ef036c</td>\n",
              "      <td>Running</td>\n",
              "      <td>NaN</td>\n",
              "      <td>13.01</td>\n",
              "      <td>1:15:16</td>\n",
              "      <td>5:47</td>\n",
              "      <td>10.37</td>\n",
              "      <td>967.0</td>\n",
              "      <td>171</td>\n",
              "      <td>155.0</td>\n",
              "      <td>NaN</td>\n",
              "      <td>NaN</td>\n",
              "      <td>2018-11-04-160500.gpx</td>\n",
              "    </tr>\n",
              "    <tr>\n",
              "      <th>3</th>\n",
              "      <td>2018-11-01 14:03:58</td>\n",
              "      <td>bc9b612d-3499-43ff-b82a-9b17b71b8a36</td>\n",
              "      <td>Running</td>\n",
              "      <td>NaN</td>\n",
              "      <td>12.98</td>\n",
              "      <td>1:14:25</td>\n",
              "      <td>5:44</td>\n",
              "      <td>10.47</td>\n",
              "      <td>960.0</td>\n",
              "      <td>169</td>\n",
              "      <td>158.0</td>\n",
              "      <td>NaN</td>\n",
              "      <td>NaN</td>\n",
              "      <td>2018-11-01-140358.gpx</td>\n",
              "    </tr>\n",
              "    <tr>\n",
              "      <th>4</th>\n",
              "      <td>2018-10-27 17:01:36</td>\n",
              "      <td>972567b2-1b0e-437c-9e82-fef8078d6438</td>\n",
              "      <td>Running</td>\n",
              "      <td>NaN</td>\n",
              "      <td>13.02</td>\n",
              "      <td>1:12:50</td>\n",
              "      <td>5:36</td>\n",
              "      <td>10.73</td>\n",
              "      <td>967.0</td>\n",
              "      <td>170</td>\n",
              "      <td>154.0</td>\n",
              "      <td>NaN</td>\n",
              "      <td>NaN</td>\n",
              "      <td>2018-10-27-170136.gpx</td>\n",
              "    </tr>\n",
              "  </tbody>\n",
              "</table>\n",
              "</div>"
            ],
            "text/plain": [
              "                  Date  ...               GPX File\n",
              "0  2018-11-11 14:05:12  ...  2018-11-11-140512.gpx\n",
              "1  2018-11-09 15:02:35  ...  2018-11-09-150235.gpx\n",
              "2  2018-11-04 16:05:00  ...  2018-11-04-160500.gpx\n",
              "3  2018-11-01 14:03:58  ...  2018-11-01-140358.gpx\n",
              "4  2018-10-27 17:01:36  ...  2018-10-27-170136.gpx\n",
              "\n",
              "[5 rows x 14 columns]"
            ]
          },
          "metadata": {
            "tags": []
          },
          "execution_count": 12
        }
      ]
    },
    {
      "cell_type": "code",
      "metadata": {
        "id": "Kaxze83yHelm",
        "colab_type": "code",
        "colab": {}
      },
      "source": [
        "rf.info()"
      ],
      "execution_count": null,
      "outputs": []
    },
    {
      "cell_type": "markdown",
      "metadata": {
        "id": "PVvUEF-nvEFR",
        "colab_type": "text"
      },
      "source": [
        "## **TASK-2**\n",
        "Lucky for us, the column names Runkeeper provides are informative, and we don't need to rename any columns.\n",
        "\n",
        "\n",
        "But, we do notice missing values using the info() method. What are the reasons for these missing values? It depends. Some heart rate information is missing because I didn't always use a cardio sensor. In the case of the Notes column, it is an optional field that I sometimes left blank. Also, I only used the Route Name column once, and never used the Friend's Tagged column.\n",
        "\n",
        "\n",
        "We'll fill in missing values in the heart rate column to avoid misleading results later, but right now, our first data preprocessing steps will be to:\n",
        "\n",
        "Remove columns not useful for our analysis.\n",
        "Replace the \"Other\" activity type to \"Unicycling\" because that was always the \"Other\" activity.\n",
        "Count missing values.\n",
        "\n"
      ]
    },
    {
      "cell_type": "markdown",
      "metadata": {
        "id": "Wwt-8soQlRX5",
        "colab_type": "text"
      },
      "source": [
        "\"\"\"columns to be deleted:\n",
        "1.**route**:this column has no information related\n",
        "2.**Friends Tagged**: this column has no information\n",
        "3.**Notes**: Unambiguous information not required for further analysis\"\"\""
      ]
    },
    {
      "cell_type": "code",
      "metadata": {
        "id": "4sc_zHVK5CKD",
        "colab_type": "code",
        "colab": {
          "base_uri": "https://localhost:8080/",
          "height": 585
        },
        "outputId": "0aed0f43-a1b8-44bc-a8f7-26f7247fc790"
      },
      "source": [
        "rf.drop(columns=['Route Name',\"Friends Tagged\",'Notes'])"
      ],
      "execution_count": null,
      "outputs": [
        {
          "output_type": "execute_result",
          "data": {
            "text/html": [
              "<div>\n",
              "<style scoped>\n",
              "    .dataframe tbody tr th:only-of-type {\n",
              "        vertical-align: middle;\n",
              "    }\n",
              "\n",
              "    .dataframe tbody tr th {\n",
              "        vertical-align: top;\n",
              "    }\n",
              "\n",
              "    .dataframe thead th {\n",
              "        text-align: right;\n",
              "    }\n",
              "</style>\n",
              "<table border=\"1\" class=\"dataframe\">\n",
              "  <thead>\n",
              "    <tr style=\"text-align: right;\">\n",
              "      <th></th>\n",
              "      <th>Date</th>\n",
              "      <th>Activity Id</th>\n",
              "      <th>Type</th>\n",
              "      <th>Distance (km)</th>\n",
              "      <th>Duration</th>\n",
              "      <th>Average Pace</th>\n",
              "      <th>Average Speed (km/h)</th>\n",
              "      <th>Calories Burned</th>\n",
              "      <th>Climb (m)</th>\n",
              "      <th>Average Heart Rate (bpm)</th>\n",
              "      <th>GPX File</th>\n",
              "    </tr>\n",
              "  </thead>\n",
              "  <tbody>\n",
              "    <tr>\n",
              "      <th>0</th>\n",
              "      <td>2018-11-11 14:05:12</td>\n",
              "      <td>c9627fed-14ac-47a2-bed3-2a2630c63c15</td>\n",
              "      <td>Running</td>\n",
              "      <td>10.44</td>\n",
              "      <td>58:40</td>\n",
              "      <td>5:37</td>\n",
              "      <td>10.68</td>\n",
              "      <td>774.0</td>\n",
              "      <td>130</td>\n",
              "      <td>159.0</td>\n",
              "      <td>2018-11-11-140512.gpx</td>\n",
              "    </tr>\n",
              "    <tr>\n",
              "      <th>1</th>\n",
              "      <td>2018-11-09 15:02:35</td>\n",
              "      <td>be65818d-a801-4847-a43b-2acdf4dc70e7</td>\n",
              "      <td>Running</td>\n",
              "      <td>12.84</td>\n",
              "      <td>1:14:12</td>\n",
              "      <td>5:47</td>\n",
              "      <td>10.39</td>\n",
              "      <td>954.0</td>\n",
              "      <td>168</td>\n",
              "      <td>159.0</td>\n",
              "      <td>2018-11-09-150235.gpx</td>\n",
              "    </tr>\n",
              "    <tr>\n",
              "      <th>2</th>\n",
              "      <td>2018-11-04 16:05:00</td>\n",
              "      <td>c09b2f92-f855-497c-b624-c196b3ef036c</td>\n",
              "      <td>Running</td>\n",
              "      <td>13.01</td>\n",
              "      <td>1:15:16</td>\n",
              "      <td>5:47</td>\n",
              "      <td>10.37</td>\n",
              "      <td>967.0</td>\n",
              "      <td>171</td>\n",
              "      <td>155.0</td>\n",
              "      <td>2018-11-04-160500.gpx</td>\n",
              "    </tr>\n",
              "    <tr>\n",
              "      <th>3</th>\n",
              "      <td>2018-11-01 14:03:58</td>\n",
              "      <td>bc9b612d-3499-43ff-b82a-9b17b71b8a36</td>\n",
              "      <td>Running</td>\n",
              "      <td>12.98</td>\n",
              "      <td>1:14:25</td>\n",
              "      <td>5:44</td>\n",
              "      <td>10.47</td>\n",
              "      <td>960.0</td>\n",
              "      <td>169</td>\n",
              "      <td>158.0</td>\n",
              "      <td>2018-11-01-140358.gpx</td>\n",
              "    </tr>\n",
              "    <tr>\n",
              "      <th>4</th>\n",
              "      <td>2018-10-27 17:01:36</td>\n",
              "      <td>972567b2-1b0e-437c-9e82-fef8078d6438</td>\n",
              "      <td>Running</td>\n",
              "      <td>13.02</td>\n",
              "      <td>1:12:50</td>\n",
              "      <td>5:36</td>\n",
              "      <td>10.73</td>\n",
              "      <td>967.0</td>\n",
              "      <td>170</td>\n",
              "      <td>154.0</td>\n",
              "      <td>2018-10-27-170136.gpx</td>\n",
              "    </tr>\n",
              "    <tr>\n",
              "      <th>...</th>\n",
              "      <td>...</td>\n",
              "      <td>...</td>\n",
              "      <td>...</td>\n",
              "      <td>...</td>\n",
              "      <td>...</td>\n",
              "      <td>...</td>\n",
              "      <td>...</td>\n",
              "      <td>...</td>\n",
              "      <td>...</td>\n",
              "      <td>...</td>\n",
              "      <td>...</td>\n",
              "    </tr>\n",
              "    <tr>\n",
              "      <th>503</th>\n",
              "      <td>2012-08-28 07:06:57</td>\n",
              "      <td>f5218490-a372-44c8-bb20-de3b91984cbe</td>\n",
              "      <td>Walking</td>\n",
              "      <td>1.57</td>\n",
              "      <td>13:39</td>\n",
              "      <td>8:41</td>\n",
              "      <td>6.91</td>\n",
              "      <td>926743.0</td>\n",
              "      <td>7</td>\n",
              "      <td>NaN</td>\n",
              "      <td>2012-08-28-070657.gpx</td>\n",
              "    </tr>\n",
              "    <tr>\n",
              "      <th>504</th>\n",
              "      <td>2012-08-24 12:59:42</td>\n",
              "      <td>018f66a7-da5e-4985-a8fe-725a33317c87</td>\n",
              "      <td>Walking</td>\n",
              "      <td>1.48</td>\n",
              "      <td>17:56</td>\n",
              "      <td>12:09</td>\n",
              "      <td>4.94</td>\n",
              "      <td>942192.0</td>\n",
              "      <td>12</td>\n",
              "      <td>NaN</td>\n",
              "      <td>2012-08-24-125942.gpx</td>\n",
              "    </tr>\n",
              "    <tr>\n",
              "      <th>505</th>\n",
              "      <td>2012-08-24 10:12:16</td>\n",
              "      <td>7acec95a-d63d-435d-837c-7befb352f500</td>\n",
              "      <td>Walking</td>\n",
              "      <td>1.49</td>\n",
              "      <td>13:43</td>\n",
              "      <td>9:14</td>\n",
              "      <td>6.49</td>\n",
              "      <td>924486.0</td>\n",
              "      <td>9</td>\n",
              "      <td>NaN</td>\n",
              "      <td>2012-08-24-101216.gpx</td>\n",
              "    </tr>\n",
              "    <tr>\n",
              "      <th>506</th>\n",
              "      <td>2012-08-24 08:13:12</td>\n",
              "      <td>f790bdb2-b921-4018-bd39-d59d870c5847</td>\n",
              "      <td>Running</td>\n",
              "      <td>3.15</td>\n",
              "      <td>16:00</td>\n",
              "      <td>5:05</td>\n",
              "      <td>11.82</td>\n",
              "      <td>2288868.0</td>\n",
              "      <td>17</td>\n",
              "      <td>NaN</td>\n",
              "      <td>2012-08-24-081312.gpx</td>\n",
              "    </tr>\n",
              "    <tr>\n",
              "      <th>507</th>\n",
              "      <td>2012-08-22 18:53:54</td>\n",
              "      <td>706d4d6b-767d-40aa-81c9-e5e85a102051</td>\n",
              "      <td>Running</td>\n",
              "      <td>5.69</td>\n",
              "      <td>31:08</td>\n",
              "      <td>5:29</td>\n",
              "      <td>10.95</td>\n",
              "      <td>4072685.0</td>\n",
              "      <td>32</td>\n",
              "      <td>NaN</td>\n",
              "      <td>2012-08-22-185354.gpx</td>\n",
              "    </tr>\n",
              "  </tbody>\n",
              "</table>\n",
              "<p>508 rows × 11 columns</p>\n",
              "</div>"
            ],
            "text/plain": [
              "                    Date  ...               GPX File\n",
              "0    2018-11-11 14:05:12  ...  2018-11-11-140512.gpx\n",
              "1    2018-11-09 15:02:35  ...  2018-11-09-150235.gpx\n",
              "2    2018-11-04 16:05:00  ...  2018-11-04-160500.gpx\n",
              "3    2018-11-01 14:03:58  ...  2018-11-01-140358.gpx\n",
              "4    2018-10-27 17:01:36  ...  2018-10-27-170136.gpx\n",
              "..                   ...  ...                    ...\n",
              "503  2012-08-28 07:06:57  ...  2012-08-28-070657.gpx\n",
              "504  2012-08-24 12:59:42  ...  2012-08-24-125942.gpx\n",
              "505  2012-08-24 10:12:16  ...  2012-08-24-101216.gpx\n",
              "506  2012-08-24 08:13:12  ...  2012-08-24-081312.gpx\n",
              "507  2012-08-22 18:53:54  ...  2012-08-22-185354.gpx\n",
              "\n",
              "[508 rows x 11 columns]"
            ]
          },
          "metadata": {
            "tags": []
          },
          "execution_count": 13
        }
      ]
    },
    {
      "cell_type": "code",
      "metadata": {
        "id": "J_k38FahkojZ",
        "colab_type": "code",
        "colab": {
          "base_uri": "https://localhost:8080/",
          "height": 88
        },
        "outputId": "b61a75b6-eb52-4f17-b68c-529975af6b9f"
      },
      "source": [
        "a=rf.Type.value_counts()['Running']\n",
        "b=rf.Type.value_counts()['Walking']\n",
        "c=rf.Type.value_counts()['Cycling']\n",
        "d=rf.Type.value_counts()['Other']\n",
        "print(\"Running:%s \\nWalking: %s \\nCycling:%s \\nOther:%s\"%(a,b,c,d))\n",
        "\n",
        "\n"
      ],
      "execution_count": null,
      "outputs": [
        {
          "output_type": "stream",
          "text": [
            "Running:459 \n",
            "Walking: 18 \n",
            "Cycling:29 \n",
            "Other:2\n"
          ],
          "name": "stdout"
        }
      ]
    },
    {
      "cell_type": "code",
      "metadata": {
        "id": "t9fY6WxTKJcv",
        "colab_type": "code",
        "colab": {}
      },
      "source": [
        "rf['Type']=rf['Type'].replace(\"Other\",\"Unicycling\")"
      ],
      "execution_count": null,
      "outputs": []
    },
    {
      "cell_type": "code",
      "metadata": {
        "id": "8f99kc_TWK90",
        "colab_type": "code",
        "colab": {
          "base_uri": "https://localhost:8080/",
          "height": 141
        },
        "outputId": "3da2c3f1-1ddc-469a-810c-1769bae52999"
      },
      "source": [
        "a1=rf['Type'].isnull().sum()\n",
        "b1=rf['Distance (km)'].isnull().sum()\n",
        "c1=rf['Duration'].isnull().sum()\n",
        "d1=rf['Average Pace'].isnull().sum()\n",
        "e1=rf['Average Speed (km/h)'].isnull().sum()\n",
        "f1=rf['Climb (m)'].isnull().sum()\n",
        "g1=rf['Average Heart Rate (bpm)'].isnull().sum()\n",
        "print(\"Type:%s \\nDistance (km):%s \\nDuration:%s \\nAverage Pace:%s \\nAverage Speed (km/h):%s \\nClimb(m):%s \\nAverage Heart Rate(bpm):%s\"%(a1,b1,c1,d1,e1,f1,g1))\n",
        "\n",
        "\n",
        "\n",
        "\n",
        "\n",
        "\n"
      ],
      "execution_count": null,
      "outputs": [
        {
          "output_type": "stream",
          "text": [
            "Type:0 \n",
            "Distance (km):0 \n",
            "Duration:0 \n",
            "Average Pace:0 \n",
            "Average Speed (km/h):0 \n",
            "Climb(m):0 \n",
            "Average Heart Rate(bpm):214\n"
          ],
          "name": "stdout"
        }
      ]
    },
    {
      "cell_type": "markdown",
      "metadata": {
        "id": "DmPP0dQQvUDk",
        "colab_type": "text"
      },
      "source": [
        "## **TASK-3**\n",
        "As we can see from the last output, there are 214 missing entries for my average heart rate.\n",
        "We can't go back in time to get those data, but we can fill in the missing values with an average value. This process is called mean imputation. When imputing the mean to fill in missing data, we need to consider that the average heart rate varies for different activities (e.g., walking vs. running). We'll filter the DataFrames by activity type (Type) and calculate each activity's mean heart rate, then fill in the missing values with those means.\n"
      ]
    },
    {
      "cell_type": "markdown",
      "metadata": {
        "id": "ou2W4AB-pVLE",
        "colab_type": "text"
      },
      "source": [
        "As we are seeing the null values are observed in Average Heart Rate.So, to solve this:\n",
        "Splitting up the data set according to the activities:\n"
      ]
    },
    {
      "cell_type": "code",
      "metadata": {
        "id": "7qtYwJ3JytoW",
        "colab_type": "code",
        "colab": {}
      },
      "source": [
        "# Calculate sample means for heart rate for each training activity type \n",
        "\n",
        "# Split whole DataFrame into several, specific for different activities\n",
        "\n",
        "# Filling missing values with counted means  \n",
        "\n",
        "# Count missing values for each column in running data\n"
      ],
      "execution_count": null,
      "outputs": []
    },
    {
      "cell_type": "code",
      "metadata": {
        "id": "mANK3B7oeyXo",
        "colab_type": "code",
        "colab": {}
      },
      "source": [
        "run_df=rf[rf.Type=='Running']\n",
        "walk_df=rf[rf.Type=='Walking']\n",
        "cyc_df=rf[rf.Type=='Cycling']\n",
        "uni_df=rf[rf.Type=='Unicycling']"
      ],
      "execution_count": null,
      "outputs": []
    },
    {
      "cell_type": "markdown",
      "metadata": {
        "id": "cMQPxSrfpbIZ",
        "colab_type": "text"
      },
      "source": [
        "Individual Average heart rate mean from each  activity dataset :"
      ]
    },
    {
      "cell_type": "code",
      "metadata": {
        "id": "5_pVpkhKsMa6",
        "colab_type": "code",
        "colab": {
          "base_uri": "https://localhost:8080/",
          "height": 35
        },
        "outputId": "f65b7517-f86b-486f-8376-71b17491f4bd"
      },
      "source": [
        "avg_run_hr=run_df[\"Average Heart Rate (bpm)\"].mean()\n",
        "print(avg_run_hr)"
      ],
      "execution_count": null,
      "outputs": [
        {
          "output_type": "stream",
          "text": [
            "144.985559566787\n"
          ],
          "name": "stdout"
        }
      ]
    },
    {
      "cell_type": "code",
      "metadata": {
        "id": "n4gMa5KZss2x",
        "colab_type": "code",
        "colab": {
          "base_uri": "https://localhost:8080/",
          "height": 35
        },
        "outputId": "e6c2571e-c4f4-4592-8990-0e54b771762e"
      },
      "source": [
        "avg_walk_hr=walk_df[\"Average Heart Rate (bpm)\"].mean()\n",
        "print(avg_walk_hr)"
      ],
      "execution_count": null,
      "outputs": [
        {
          "output_type": "stream",
          "text": [
            "nan\n"
          ],
          "name": "stdout"
        }
      ]
    },
    {
      "cell_type": "code",
      "metadata": {
        "id": "ipMxS4sys6Rq",
        "colab_type": "code",
        "colab": {
          "base_uri": "https://localhost:8080/",
          "height": 35
        },
        "outputId": "c267d7e9-1a5c-4e84-8bf3-73d6973ee92f"
      },
      "source": [
        "avg_cyc_hr=cyc_df[\"Average Heart Rate (bpm)\"].mean()\n",
        "print(avg_cyc_hr)"
      ],
      "execution_count": null,
      "outputs": [
        {
          "output_type": "stream",
          "text": [
            "124.4\n"
          ],
          "name": "stdout"
        }
      ]
    },
    {
      "cell_type": "code",
      "metadata": {
        "id": "gJPG4GUluSrC",
        "colab_type": "code",
        "colab": {
          "base_uri": "https://localhost:8080/",
          "height": 35
        },
        "outputId": "c5234295-9d8f-41af-d112-3d0d04475cd4"
      },
      "source": [
        "avg_uni_hr=uni_df[\"Average Heart Rate (bpm)\"].mean()\n",
        "print(avg_uni_hr)"
      ],
      "execution_count": null,
      "outputs": [
        {
          "output_type": "stream",
          "text": [
            "85.5\n"
          ],
          "name": "stdout"
        }
      ]
    },
    {
      "cell_type": "markdown",
      "metadata": {
        "id": "FJGAk6CNpmjJ",
        "colab_type": "text"
      },
      "source": [
        "Mean of all three data set's Average Heart rate so a to fill up the null spaces with the average of all heart rate observed in all activites.\n",
        "This process is called **Mean Imputation**.\n",
        "This will help to fill up the null spaces observed in Average Heart Rate. "
      ]
    },
    {
      "cell_type": "code",
      "metadata": {
        "id": "TYKMi1IYbQGC",
        "colab_type": "code",
        "colab": {
          "base_uri": "https://localhost:8080/",
          "height": 124
        },
        "outputId": "d5129f50-dfdd-4a7f-9716-cd084be7dabb"
      },
      "source": [
        "run_df['Average Heart Rate (bpm)'].fillna(avg_run_hr,inplace=True)\n",
        "x1=run_df['Average Heart Rate (bpm)'].isnull().sum()\n",
        "h1=run_df['Average Heart Rate (bpm)'].mean()\n",
        "x1"
      ],
      "execution_count": null,
      "outputs": [
        {
          "output_type": "stream",
          "text": [
            "/usr/local/lib/python3.6/dist-packages/pandas/core/generic.py:6245: SettingWithCopyWarning: \n",
            "A value is trying to be set on a copy of a slice from a DataFrame\n",
            "\n",
            "See the caveats in the documentation: https://pandas.pydata.org/pandas-docs/stable/user_guide/indexing.html#returning-a-view-versus-a-copy\n",
            "  self._update_inplace(new_data)\n"
          ],
          "name": "stderr"
        },
        {
          "output_type": "execute_result",
          "data": {
            "text/plain": [
              "0"
            ]
          },
          "metadata": {
            "tags": []
          },
          "execution_count": 24
        }
      ]
    },
    {
      "cell_type": "code",
      "metadata": {
        "id": "-RvUeZUda4j-",
        "colab_type": "code",
        "colab": {
          "base_uri": "https://localhost:8080/",
          "height": 124
        },
        "outputId": "65de1e94-8a6d-4536-c3ad-1eee2d1282d0"
      },
      "source": [
        "walk_df['Average Heart Rate (bpm)'].fillna(115,inplace=True)\n",
        "x2=walk_df['Average Heart Rate (bpm)'].isnull().sum()\n",
        "h2=walk_df['Average Heart Rate (bpm)'].mean()\n",
        "x2"
      ],
      "execution_count": null,
      "outputs": [
        {
          "output_type": "stream",
          "text": [
            "/usr/local/lib/python3.6/dist-packages/pandas/core/generic.py:6245: SettingWithCopyWarning: \n",
            "A value is trying to be set on a copy of a slice from a DataFrame\n",
            "\n",
            "See the caveats in the documentation: https://pandas.pydata.org/pandas-docs/stable/user_guide/indexing.html#returning-a-view-versus-a-copy\n",
            "  self._update_inplace(new_data)\n"
          ],
          "name": "stderr"
        },
        {
          "output_type": "execute_result",
          "data": {
            "text/plain": [
              "0"
            ]
          },
          "metadata": {
            "tags": []
          },
          "execution_count": 25
        }
      ]
    },
    {
      "cell_type": "code",
      "metadata": {
        "id": "oSvrem9EbDLY",
        "colab_type": "code",
        "colab": {
          "base_uri": "https://localhost:8080/",
          "height": 124
        },
        "outputId": "b06a0d07-a08f-482f-a854-3a364b422f93"
      },
      "source": [
        "cyc_df['Average Heart Rate (bpm)'].fillna(avg_cyc_hr,inplace=True)\n",
        "x3=cyc_df['Average Heart Rate (bpm)'].isnull().sum()\n",
        "h3=cyc_df['Average Heart Rate (bpm)'].mean()\n",
        "\n",
        "x3\n"
      ],
      "execution_count": null,
      "outputs": [
        {
          "output_type": "stream",
          "text": [
            "/usr/local/lib/python3.6/dist-packages/pandas/core/generic.py:6245: SettingWithCopyWarning: \n",
            "A value is trying to be set on a copy of a slice from a DataFrame\n",
            "\n",
            "See the caveats in the documentation: https://pandas.pydata.org/pandas-docs/stable/user_guide/indexing.html#returning-a-view-versus-a-copy\n",
            "  self._update_inplace(new_data)\n"
          ],
          "name": "stderr"
        },
        {
          "output_type": "execute_result",
          "data": {
            "text/plain": [
              "0"
            ]
          },
          "metadata": {
            "tags": []
          },
          "execution_count": 26
        }
      ]
    },
    {
      "cell_type": "code",
      "metadata": {
        "id": "E9Uj7VUsbHVg",
        "colab_type": "code",
        "colab": {
          "base_uri": "https://localhost:8080/",
          "height": 124
        },
        "outputId": "ab717d57-ab11-411c-d98f-22e3087a2b67"
      },
      "source": [
        "uni_df['Average Heart Rate (bpm)'].fillna(avg_uni_hr,inplace=True)\n",
        "x4=uni_df['Average Heart Rate (bpm)'].isnull().sum()\n",
        "h4=uni_df['Average Heart Rate (bpm)'].mean()\n",
        "\n",
        "x4\n"
      ],
      "execution_count": null,
      "outputs": [
        {
          "output_type": "stream",
          "text": [
            "/usr/local/lib/python3.6/dist-packages/pandas/core/generic.py:6245: SettingWithCopyWarning: \n",
            "A value is trying to be set on a copy of a slice from a DataFrame\n",
            "\n",
            "See the caveats in the documentation: https://pandas.pydata.org/pandas-docs/stable/user_guide/indexing.html#returning-a-view-versus-a-copy\n",
            "  self._update_inplace(new_data)\n"
          ],
          "name": "stderr"
        },
        {
          "output_type": "execute_result",
          "data": {
            "text/plain": [
              "0"
            ]
          },
          "metadata": {
            "tags": []
          },
          "execution_count": 27
        }
      ]
    },
    {
      "cell_type": "markdown",
      "metadata": {
        "id": "Xe4NwUYxqjDv",
        "colab_type": "text"
      },
      "source": [
        "We filled up all the null spaces with the average of the data in average Heart Rate.\n"
      ]
    },
    {
      "cell_type": "code",
      "metadata": {
        "id": "5O0uxMZGqndU",
        "colab_type": "code",
        "colab": {
          "base_uri": "https://localhost:8080/",
          "height": 585
        },
        "outputId": "972604db-f121-445e-8fa3-27c3faa43828"
      },
      "source": [
        "frame=[run_df,walk_df,cyc_df,uni_df] #concatenated all the frames\n",
        "all_df=pd.concat(frame)\n",
        "all_df.drop(columns=['Route Name',\"Friends Tagged\",'Notes'])\n"
      ],
      "execution_count": null,
      "outputs": [
        {
          "output_type": "execute_result",
          "data": {
            "text/html": [
              "<div>\n",
              "<style scoped>\n",
              "    .dataframe tbody tr th:only-of-type {\n",
              "        vertical-align: middle;\n",
              "    }\n",
              "\n",
              "    .dataframe tbody tr th {\n",
              "        vertical-align: top;\n",
              "    }\n",
              "\n",
              "    .dataframe thead th {\n",
              "        text-align: right;\n",
              "    }\n",
              "</style>\n",
              "<table border=\"1\" class=\"dataframe\">\n",
              "  <thead>\n",
              "    <tr style=\"text-align: right;\">\n",
              "      <th></th>\n",
              "      <th>Date</th>\n",
              "      <th>Activity Id</th>\n",
              "      <th>Type</th>\n",
              "      <th>Distance (km)</th>\n",
              "      <th>Duration</th>\n",
              "      <th>Average Pace</th>\n",
              "      <th>Average Speed (km/h)</th>\n",
              "      <th>Calories Burned</th>\n",
              "      <th>Climb (m)</th>\n",
              "      <th>Average Heart Rate (bpm)</th>\n",
              "      <th>GPX File</th>\n",
              "    </tr>\n",
              "  </thead>\n",
              "  <tbody>\n",
              "    <tr>\n",
              "      <th>0</th>\n",
              "      <td>2018-11-11 14:05:12</td>\n",
              "      <td>c9627fed-14ac-47a2-bed3-2a2630c63c15</td>\n",
              "      <td>Running</td>\n",
              "      <td>10.44</td>\n",
              "      <td>58:40</td>\n",
              "      <td>5:37</td>\n",
              "      <td>10.68</td>\n",
              "      <td>774.0</td>\n",
              "      <td>130</td>\n",
              "      <td>159.0</td>\n",
              "      <td>2018-11-11-140512.gpx</td>\n",
              "    </tr>\n",
              "    <tr>\n",
              "      <th>1</th>\n",
              "      <td>2018-11-09 15:02:35</td>\n",
              "      <td>be65818d-a801-4847-a43b-2acdf4dc70e7</td>\n",
              "      <td>Running</td>\n",
              "      <td>12.84</td>\n",
              "      <td>1:14:12</td>\n",
              "      <td>5:47</td>\n",
              "      <td>10.39</td>\n",
              "      <td>954.0</td>\n",
              "      <td>168</td>\n",
              "      <td>159.0</td>\n",
              "      <td>2018-11-09-150235.gpx</td>\n",
              "    </tr>\n",
              "    <tr>\n",
              "      <th>2</th>\n",
              "      <td>2018-11-04 16:05:00</td>\n",
              "      <td>c09b2f92-f855-497c-b624-c196b3ef036c</td>\n",
              "      <td>Running</td>\n",
              "      <td>13.01</td>\n",
              "      <td>1:15:16</td>\n",
              "      <td>5:47</td>\n",
              "      <td>10.37</td>\n",
              "      <td>967.0</td>\n",
              "      <td>171</td>\n",
              "      <td>155.0</td>\n",
              "      <td>2018-11-04-160500.gpx</td>\n",
              "    </tr>\n",
              "    <tr>\n",
              "      <th>3</th>\n",
              "      <td>2018-11-01 14:03:58</td>\n",
              "      <td>bc9b612d-3499-43ff-b82a-9b17b71b8a36</td>\n",
              "      <td>Running</td>\n",
              "      <td>12.98</td>\n",
              "      <td>1:14:25</td>\n",
              "      <td>5:44</td>\n",
              "      <td>10.47</td>\n",
              "      <td>960.0</td>\n",
              "      <td>169</td>\n",
              "      <td>158.0</td>\n",
              "      <td>2018-11-01-140358.gpx</td>\n",
              "    </tr>\n",
              "    <tr>\n",
              "      <th>4</th>\n",
              "      <td>2018-10-27 17:01:36</td>\n",
              "      <td>972567b2-1b0e-437c-9e82-fef8078d6438</td>\n",
              "      <td>Running</td>\n",
              "      <td>13.02</td>\n",
              "      <td>1:12:50</td>\n",
              "      <td>5:36</td>\n",
              "      <td>10.73</td>\n",
              "      <td>967.0</td>\n",
              "      <td>170</td>\n",
              "      <td>154.0</td>\n",
              "      <td>2018-10-27-170136.gpx</td>\n",
              "    </tr>\n",
              "    <tr>\n",
              "      <th>...</th>\n",
              "      <td>...</td>\n",
              "      <td>...</td>\n",
              "      <td>...</td>\n",
              "      <td>...</td>\n",
              "      <td>...</td>\n",
              "      <td>...</td>\n",
              "      <td>...</td>\n",
              "      <td>...</td>\n",
              "      <td>...</td>\n",
              "      <td>...</td>\n",
              "      <td>...</td>\n",
              "    </tr>\n",
              "    <tr>\n",
              "      <th>447</th>\n",
              "      <td>2013-05-09 17:24:19</td>\n",
              "      <td>b22dfd09-a8df-4796-86e4-e4d00ca151f6</td>\n",
              "      <td>Cycling</td>\n",
              "      <td>15.47</td>\n",
              "      <td>38:08</td>\n",
              "      <td>2:28</td>\n",
              "      <td>24.33</td>\n",
              "      <td>339.0</td>\n",
              "      <td>88</td>\n",
              "      <td>124.4</td>\n",
              "      <td>2013-05-09-172419.gpx</td>\n",
              "    </tr>\n",
              "    <tr>\n",
              "      <th>449</th>\n",
              "      <td>2013-05-05 14:26:37</td>\n",
              "      <td>4370c545-ff6f-4829-967d-b0dbd0b54798</td>\n",
              "      <td>Cycling</td>\n",
              "      <td>20.30</td>\n",
              "      <td>1:06:29</td>\n",
              "      <td>3:17</td>\n",
              "      <td>18.31</td>\n",
              "      <td>498.0</td>\n",
              "      <td>97</td>\n",
              "      <td>124.4</td>\n",
              "      <td>2013-05-05-142637.gpx</td>\n",
              "    </tr>\n",
              "    <tr>\n",
              "      <th>456</th>\n",
              "      <td>2013-04-28 17:26:52</td>\n",
              "      <td>ea228333-1dc2-4798-90e6-d4b7aa93545c</td>\n",
              "      <td>Cycling</td>\n",
              "      <td>13.87</td>\n",
              "      <td>48:27</td>\n",
              "      <td>3:30</td>\n",
              "      <td>17.17</td>\n",
              "      <td>341.0</td>\n",
              "      <td>133</td>\n",
              "      <td>124.4</td>\n",
              "      <td>2013-04-28-172652.gpx</td>\n",
              "    </tr>\n",
              "    <tr>\n",
              "      <th>11</th>\n",
              "      <td>2018-09-02 17:24:28</td>\n",
              "      <td>51781e97-560e-48d0-9522-44f303f9235f</td>\n",
              "      <td>Unicycling</td>\n",
              "      <td>17.65</td>\n",
              "      <td>1:01:28</td>\n",
              "      <td>3:29</td>\n",
              "      <td>17.23</td>\n",
              "      <td>1164.0</td>\n",
              "      <td>219</td>\n",
              "      <td>77.0</td>\n",
              "      <td>2018-09-02-172428.gpx</td>\n",
              "    </tr>\n",
              "    <tr>\n",
              "      <th>20</th>\n",
              "      <td>2018-07-31 18:25:24</td>\n",
              "      <td>a929c543-bc2e-446d-9431-40e60fbc6270</td>\n",
              "      <td>Unicycling</td>\n",
              "      <td>16.80</td>\n",
              "      <td>1:07:21</td>\n",
              "      <td>4:01</td>\n",
              "      <td>14.97</td>\n",
              "      <td>1075.0</td>\n",
              "      <td>202</td>\n",
              "      <td>94.0</td>\n",
              "      <td>2018-07-31-182524.gpx</td>\n",
              "    </tr>\n",
              "  </tbody>\n",
              "</table>\n",
              "<p>508 rows × 11 columns</p>\n",
              "</div>"
            ],
            "text/plain": [
              "                    Date  ...               GPX File\n",
              "0    2018-11-11 14:05:12  ...  2018-11-11-140512.gpx\n",
              "1    2018-11-09 15:02:35  ...  2018-11-09-150235.gpx\n",
              "2    2018-11-04 16:05:00  ...  2018-11-04-160500.gpx\n",
              "3    2018-11-01 14:03:58  ...  2018-11-01-140358.gpx\n",
              "4    2018-10-27 17:01:36  ...  2018-10-27-170136.gpx\n",
              "..                   ...  ...                    ...\n",
              "447  2013-05-09 17:24:19  ...  2013-05-09-172419.gpx\n",
              "449  2013-05-05 14:26:37  ...  2013-05-05-142637.gpx\n",
              "456  2013-04-28 17:26:52  ...  2013-04-28-172652.gpx\n",
              "11   2018-09-02 17:24:28  ...  2018-09-02-172428.gpx\n",
              "20   2018-07-31 18:25:24  ...  2018-07-31-182524.gpx\n",
              "\n",
              "[508 rows x 11 columns]"
            ]
          },
          "metadata": {
            "tags": []
          },
          "execution_count": 28
        }
      ]
    },
    {
      "cell_type": "code",
      "metadata": {
        "id": "H64UpcLCsUpt",
        "colab_type": "code",
        "colab": {
          "base_uri": "https://localhost:8080/",
          "height": 141
        },
        "outputId": "04a70361-6b5e-475d-b76f-b061ffc59b80"
      },
      "source": [
        "a1=all_df['Type'].isnull().sum()\n",
        "b1=all_df['Distance (km)'].isnull().sum()\n",
        "c1=all_df['Duration'].isnull().sum()\n",
        "d1=all_df['Average Pace'].isnull().sum()\n",
        "e1=all_df['Average Speed (km/h)'].isnull().sum()\n",
        "f1=all_df['Climb (m)'].isnull().sum()\n",
        "g1=all_df['Average Heart Rate (bpm)'].isnull().sum()\n",
        "print(\"Type:%s \\nDistance (km):%s \\nDuration:%s \\nAverage Pace:%s \\nAverage Speed (km/h):%s \\nClimb(m):%s \\nAverage Heart Rate(bpm):%s\"%(a1,b1,c1,d1,e1,f1,g1))"
      ],
      "execution_count": null,
      "outputs": [
        {
          "output_type": "stream",
          "text": [
            "Type:0 \n",
            "Distance (km):0 \n",
            "Duration:0 \n",
            "Average Pace:0 \n",
            "Average Speed (km/h):0 \n",
            "Climb(m):0 \n",
            "Average Heart Rate(bpm):0\n"
          ],
          "name": "stdout"
        }
      ]
    },
    {
      "cell_type": "markdown",
      "metadata": {
        "id": "DT4eOU1lq1Y5",
        "colab_type": "text"
      },
      "source": [
        "Hence, We can see there is no null values left.Lets move to another one."
      ]
    },
    {
      "cell_type": "markdown",
      "metadata": {
        "id": "Rw5-k4L1vdCh",
        "colab_type": "text"
      },
      "source": [
        "## **TASK-4**\n",
        "Now we can create our first plot! As we found earlier, most of the activities in data were running (459 of them to be exact). There are only 29, 18, and two instances for cycling, walking, and unicycling, respectively. So for now, let's focus on plotting the different running metrics. An excellent first visualization is a figure with four subplots, one for each running metric (each numerical column). Each subplot will have a different y-axis, which is explained in each legend. The x-axis, Date, is shared among all subplots\n"
      ]
    },
    {
      "cell_type": "code",
      "metadata": {
        "id": "utBOIfutsyP5",
        "colab_type": "code",
        "colab": {}
      },
      "source": [
        "# Import matplotlib, set style and ignore warning\n",
        "\n",
        "\n",
        "# Prepare data subsetting period from 2013 till 2018\n",
        "\n",
        "# Create, plot and customize in one step\n",
        "\n",
        "\n",
        "# Show plot\n",
        "\n",
        "\n"
      ],
      "execution_count": null,
      "outputs": []
    },
    {
      "cell_type": "markdown",
      "metadata": {
        "id": "tz0i1wrQs0bP",
        "colab_type": "text"
      },
      "source": [
        "I splitted up date and time from the date column to ease the retrieval."
      ]
    },
    {
      "cell_type": "code",
      "metadata": {
        "id": "X0uREdAZQNq0",
        "colab_type": "code",
        "colab": {
          "base_uri": "https://localhost:8080/",
          "height": 984
        },
        "outputId": "820191dd-2bf3-441d-8b71-cd6e2e8c3ff4"
      },
      "source": [
        "new=run_df[\"Date\"].str.split(\" \", n = 1, expand = True)  #splitting up date and time\n",
        "run_df[\"date\"]=new[0]\n",
        "run_df[\"time\"]=new[1]\n",
        "run_df"
      ],
      "execution_count": null,
      "outputs": [
        {
          "output_type": "stream",
          "text": [
            "/usr/local/lib/python3.6/dist-packages/ipykernel_launcher.py:2: SettingWithCopyWarning: \n",
            "A value is trying to be set on a copy of a slice from a DataFrame.\n",
            "Try using .loc[row_indexer,col_indexer] = value instead\n",
            "\n",
            "See the caveats in the documentation: https://pandas.pydata.org/pandas-docs/stable/user_guide/indexing.html#returning-a-view-versus-a-copy\n",
            "  \n",
            "/usr/local/lib/python3.6/dist-packages/ipykernel_launcher.py:3: SettingWithCopyWarning: \n",
            "A value is trying to be set on a copy of a slice from a DataFrame.\n",
            "Try using .loc[row_indexer,col_indexer] = value instead\n",
            "\n",
            "See the caveats in the documentation: https://pandas.pydata.org/pandas-docs/stable/user_guide/indexing.html#returning-a-view-versus-a-copy\n",
            "  This is separate from the ipykernel package so we can avoid doing imports until\n"
          ],
          "name": "stderr"
        },
        {
          "output_type": "execute_result",
          "data": {
            "text/html": [
              "<div>\n",
              "<style scoped>\n",
              "    .dataframe tbody tr th:only-of-type {\n",
              "        vertical-align: middle;\n",
              "    }\n",
              "\n",
              "    .dataframe tbody tr th {\n",
              "        vertical-align: top;\n",
              "    }\n",
              "\n",
              "    .dataframe thead th {\n",
              "        text-align: right;\n",
              "    }\n",
              "</style>\n",
              "<table border=\"1\" class=\"dataframe\">\n",
              "  <thead>\n",
              "    <tr style=\"text-align: right;\">\n",
              "      <th></th>\n",
              "      <th>Date</th>\n",
              "      <th>Activity Id</th>\n",
              "      <th>Type</th>\n",
              "      <th>Route Name</th>\n",
              "      <th>Distance (km)</th>\n",
              "      <th>Duration</th>\n",
              "      <th>Average Pace</th>\n",
              "      <th>Average Speed (km/h)</th>\n",
              "      <th>Calories Burned</th>\n",
              "      <th>Climb (m)</th>\n",
              "      <th>Average Heart Rate (bpm)</th>\n",
              "      <th>Friends Tagged</th>\n",
              "      <th>Notes</th>\n",
              "      <th>GPX File</th>\n",
              "      <th>date</th>\n",
              "      <th>time</th>\n",
              "    </tr>\n",
              "  </thead>\n",
              "  <tbody>\n",
              "    <tr>\n",
              "      <th>0</th>\n",
              "      <td>2018-11-11 14:05:12</td>\n",
              "      <td>c9627fed-14ac-47a2-bed3-2a2630c63c15</td>\n",
              "      <td>Running</td>\n",
              "      <td>NaN</td>\n",
              "      <td>10.44</td>\n",
              "      <td>58:40</td>\n",
              "      <td>5:37</td>\n",
              "      <td>10.68</td>\n",
              "      <td>774.0</td>\n",
              "      <td>130</td>\n",
              "      <td>159.00000</td>\n",
              "      <td>NaN</td>\n",
              "      <td>NaN</td>\n",
              "      <td>2018-11-11-140512.gpx</td>\n",
              "      <td>2018-11-11</td>\n",
              "      <td>14:05:12</td>\n",
              "    </tr>\n",
              "    <tr>\n",
              "      <th>1</th>\n",
              "      <td>2018-11-09 15:02:35</td>\n",
              "      <td>be65818d-a801-4847-a43b-2acdf4dc70e7</td>\n",
              "      <td>Running</td>\n",
              "      <td>NaN</td>\n",
              "      <td>12.84</td>\n",
              "      <td>1:14:12</td>\n",
              "      <td>5:47</td>\n",
              "      <td>10.39</td>\n",
              "      <td>954.0</td>\n",
              "      <td>168</td>\n",
              "      <td>159.00000</td>\n",
              "      <td>NaN</td>\n",
              "      <td>NaN</td>\n",
              "      <td>2018-11-09-150235.gpx</td>\n",
              "      <td>2018-11-09</td>\n",
              "      <td>15:02:35</td>\n",
              "    </tr>\n",
              "    <tr>\n",
              "      <th>2</th>\n",
              "      <td>2018-11-04 16:05:00</td>\n",
              "      <td>c09b2f92-f855-497c-b624-c196b3ef036c</td>\n",
              "      <td>Running</td>\n",
              "      <td>NaN</td>\n",
              "      <td>13.01</td>\n",
              "      <td>1:15:16</td>\n",
              "      <td>5:47</td>\n",
              "      <td>10.37</td>\n",
              "      <td>967.0</td>\n",
              "      <td>171</td>\n",
              "      <td>155.00000</td>\n",
              "      <td>NaN</td>\n",
              "      <td>NaN</td>\n",
              "      <td>2018-11-04-160500.gpx</td>\n",
              "      <td>2018-11-04</td>\n",
              "      <td>16:05:00</td>\n",
              "    </tr>\n",
              "    <tr>\n",
              "      <th>3</th>\n",
              "      <td>2018-11-01 14:03:58</td>\n",
              "      <td>bc9b612d-3499-43ff-b82a-9b17b71b8a36</td>\n",
              "      <td>Running</td>\n",
              "      <td>NaN</td>\n",
              "      <td>12.98</td>\n",
              "      <td>1:14:25</td>\n",
              "      <td>5:44</td>\n",
              "      <td>10.47</td>\n",
              "      <td>960.0</td>\n",
              "      <td>169</td>\n",
              "      <td>158.00000</td>\n",
              "      <td>NaN</td>\n",
              "      <td>NaN</td>\n",
              "      <td>2018-11-01-140358.gpx</td>\n",
              "      <td>2018-11-01</td>\n",
              "      <td>14:03:58</td>\n",
              "    </tr>\n",
              "    <tr>\n",
              "      <th>4</th>\n",
              "      <td>2018-10-27 17:01:36</td>\n",
              "      <td>972567b2-1b0e-437c-9e82-fef8078d6438</td>\n",
              "      <td>Running</td>\n",
              "      <td>NaN</td>\n",
              "      <td>13.02</td>\n",
              "      <td>1:12:50</td>\n",
              "      <td>5:36</td>\n",
              "      <td>10.73</td>\n",
              "      <td>967.0</td>\n",
              "      <td>170</td>\n",
              "      <td>154.00000</td>\n",
              "      <td>NaN</td>\n",
              "      <td>NaN</td>\n",
              "      <td>2018-10-27-170136.gpx</td>\n",
              "      <td>2018-10-27</td>\n",
              "      <td>17:01:36</td>\n",
              "    </tr>\n",
              "    <tr>\n",
              "      <th>...</th>\n",
              "      <td>...</td>\n",
              "      <td>...</td>\n",
              "      <td>...</td>\n",
              "      <td>...</td>\n",
              "      <td>...</td>\n",
              "      <td>...</td>\n",
              "      <td>...</td>\n",
              "      <td>...</td>\n",
              "      <td>...</td>\n",
              "      <td>...</td>\n",
              "      <td>...</td>\n",
              "      <td>...</td>\n",
              "      <td>...</td>\n",
              "      <td>...</td>\n",
              "      <td>...</td>\n",
              "      <td>...</td>\n",
              "    </tr>\n",
              "    <tr>\n",
              "      <th>494</th>\n",
              "      <td>2012-09-08 08:35:02</td>\n",
              "      <td>730f5507-59cc-43e6-b696-387f0946c57e</td>\n",
              "      <td>Running</td>\n",
              "      <td>NaN</td>\n",
              "      <td>3.27</td>\n",
              "      <td>15:55</td>\n",
              "      <td>4:52</td>\n",
              "      <td>12.32</td>\n",
              "      <td>231.0</td>\n",
              "      <td>15</td>\n",
              "      <td>144.98556</td>\n",
              "      <td>NaN</td>\n",
              "      <td>NaN</td>\n",
              "      <td>2012-09-08-083502.gpx</td>\n",
              "      <td>2012-09-08</td>\n",
              "      <td>08:35:02</td>\n",
              "    </tr>\n",
              "    <tr>\n",
              "      <th>495</th>\n",
              "      <td>2012-09-04 19:12:17</td>\n",
              "      <td>9a6868f1-a41c-435e-9775-d7a803aa61ad</td>\n",
              "      <td>Running</td>\n",
              "      <td>NaN</td>\n",
              "      <td>6.26</td>\n",
              "      <td>32:35</td>\n",
              "      <td>5:12</td>\n",
              "      <td>11.53</td>\n",
              "      <td>455.0</td>\n",
              "      <td>34</td>\n",
              "      <td>144.98556</td>\n",
              "      <td>NaN</td>\n",
              "      <td>NaN</td>\n",
              "      <td>2012-09-04-191217.gpx</td>\n",
              "      <td>2012-09-04</td>\n",
              "      <td>19:12:17</td>\n",
              "    </tr>\n",
              "    <tr>\n",
              "      <th>498</th>\n",
              "      <td>2012-09-02 08:41:31</td>\n",
              "      <td>4a9e2e1b-3a98-4630-8a89-3632aea5559a</td>\n",
              "      <td>Running</td>\n",
              "      <td>NaN</td>\n",
              "      <td>3.14</td>\n",
              "      <td>16:16</td>\n",
              "      <td>5:11</td>\n",
              "      <td>11.56</td>\n",
              "      <td>230.0</td>\n",
              "      <td>18</td>\n",
              "      <td>144.98556</td>\n",
              "      <td>NaN</td>\n",
              "      <td>NaN</td>\n",
              "      <td>2012-09-02-084131.gpx</td>\n",
              "      <td>2012-09-02</td>\n",
              "      <td>08:41:31</td>\n",
              "    </tr>\n",
              "    <tr>\n",
              "      <th>506</th>\n",
              "      <td>2012-08-24 08:13:12</td>\n",
              "      <td>f790bdb2-b921-4018-bd39-d59d870c5847</td>\n",
              "      <td>Running</td>\n",
              "      <td>NaN</td>\n",
              "      <td>3.15</td>\n",
              "      <td>16:00</td>\n",
              "      <td>5:05</td>\n",
              "      <td>11.82</td>\n",
              "      <td>2288868.0</td>\n",
              "      <td>17</td>\n",
              "      <td>144.98556</td>\n",
              "      <td>NaN</td>\n",
              "      <td>NaN</td>\n",
              "      <td>2012-08-24-081312.gpx</td>\n",
              "      <td>2012-08-24</td>\n",
              "      <td>08:13:12</td>\n",
              "    </tr>\n",
              "    <tr>\n",
              "      <th>507</th>\n",
              "      <td>2012-08-22 18:53:54</td>\n",
              "      <td>706d4d6b-767d-40aa-81c9-e5e85a102051</td>\n",
              "      <td>Running</td>\n",
              "      <td>NaN</td>\n",
              "      <td>5.69</td>\n",
              "      <td>31:08</td>\n",
              "      <td>5:29</td>\n",
              "      <td>10.95</td>\n",
              "      <td>4072685.0</td>\n",
              "      <td>32</td>\n",
              "      <td>144.98556</td>\n",
              "      <td>NaN</td>\n",
              "      <td>NaN</td>\n",
              "      <td>2012-08-22-185354.gpx</td>\n",
              "      <td>2012-08-22</td>\n",
              "      <td>18:53:54</td>\n",
              "    </tr>\n",
              "  </tbody>\n",
              "</table>\n",
              "<p>459 rows × 16 columns</p>\n",
              "</div>"
            ],
            "text/plain": [
              "                    Date  ...      time\n",
              "0    2018-11-11 14:05:12  ...  14:05:12\n",
              "1    2018-11-09 15:02:35  ...  15:02:35\n",
              "2    2018-11-04 16:05:00  ...  16:05:00\n",
              "3    2018-11-01 14:03:58  ...  14:03:58\n",
              "4    2018-10-27 17:01:36  ...  17:01:36\n",
              "..                   ...  ...       ...\n",
              "494  2012-09-08 08:35:02  ...  08:35:02\n",
              "495  2012-09-04 19:12:17  ...  19:12:17\n",
              "498  2012-09-02 08:41:31  ...  08:41:31\n",
              "506  2012-08-24 08:13:12  ...  08:13:12\n",
              "507  2012-08-22 18:53:54  ...  18:53:54\n",
              "\n",
              "[459 rows x 16 columns]"
            ]
          },
          "metadata": {
            "tags": []
          },
          "execution_count": 30
        }
      ]
    },
    {
      "cell_type": "code",
      "metadata": {
        "id": "kJRs7ju1ydod",
        "colab_type": "code",
        "colab": {
          "base_uri": "https://localhost:8080/",
          "height": 877
        },
        "outputId": "f2107353-f957-404b-8996-1fbec07ba224"
      },
      "source": [
        "new1=run_df[\"date\"].str.split(\"-\", n = 1, expand = True) #splitting year from date to retrieve information with year 2015-2018 accordingly\n",
        "run_df[\"Year\"]=new1[0]\n",
        "run_df\n"
      ],
      "execution_count": null,
      "outputs": [
        {
          "output_type": "stream",
          "text": [
            "/usr/local/lib/python3.6/dist-packages/ipykernel_launcher.py:2: SettingWithCopyWarning: \n",
            "A value is trying to be set on a copy of a slice from a DataFrame.\n",
            "Try using .loc[row_indexer,col_indexer] = value instead\n",
            "\n",
            "See the caveats in the documentation: https://pandas.pydata.org/pandas-docs/stable/user_guide/indexing.html#returning-a-view-versus-a-copy\n",
            "  \n"
          ],
          "name": "stderr"
        },
        {
          "output_type": "execute_result",
          "data": {
            "text/html": [
              "<div>\n",
              "<style scoped>\n",
              "    .dataframe tbody tr th:only-of-type {\n",
              "        vertical-align: middle;\n",
              "    }\n",
              "\n",
              "    .dataframe tbody tr th {\n",
              "        vertical-align: top;\n",
              "    }\n",
              "\n",
              "    .dataframe thead th {\n",
              "        text-align: right;\n",
              "    }\n",
              "</style>\n",
              "<table border=\"1\" class=\"dataframe\">\n",
              "  <thead>\n",
              "    <tr style=\"text-align: right;\">\n",
              "      <th></th>\n",
              "      <th>Date</th>\n",
              "      <th>Activity Id</th>\n",
              "      <th>Type</th>\n",
              "      <th>Route Name</th>\n",
              "      <th>Distance (km)</th>\n",
              "      <th>Duration</th>\n",
              "      <th>Average Pace</th>\n",
              "      <th>Average Speed (km/h)</th>\n",
              "      <th>Calories Burned</th>\n",
              "      <th>Climb (m)</th>\n",
              "      <th>Average Heart Rate (bpm)</th>\n",
              "      <th>Friends Tagged</th>\n",
              "      <th>Notes</th>\n",
              "      <th>GPX File</th>\n",
              "      <th>date</th>\n",
              "      <th>time</th>\n",
              "      <th>Year</th>\n",
              "    </tr>\n",
              "  </thead>\n",
              "  <tbody>\n",
              "    <tr>\n",
              "      <th>0</th>\n",
              "      <td>2018-11-11 14:05:12</td>\n",
              "      <td>c9627fed-14ac-47a2-bed3-2a2630c63c15</td>\n",
              "      <td>Running</td>\n",
              "      <td>NaN</td>\n",
              "      <td>10.44</td>\n",
              "      <td>58:40</td>\n",
              "      <td>5:37</td>\n",
              "      <td>10.68</td>\n",
              "      <td>774.0</td>\n",
              "      <td>130</td>\n",
              "      <td>159.00000</td>\n",
              "      <td>NaN</td>\n",
              "      <td>NaN</td>\n",
              "      <td>2018-11-11-140512.gpx</td>\n",
              "      <td>2018-11-11</td>\n",
              "      <td>14:05:12</td>\n",
              "      <td>2018</td>\n",
              "    </tr>\n",
              "    <tr>\n",
              "      <th>1</th>\n",
              "      <td>2018-11-09 15:02:35</td>\n",
              "      <td>be65818d-a801-4847-a43b-2acdf4dc70e7</td>\n",
              "      <td>Running</td>\n",
              "      <td>NaN</td>\n",
              "      <td>12.84</td>\n",
              "      <td>1:14:12</td>\n",
              "      <td>5:47</td>\n",
              "      <td>10.39</td>\n",
              "      <td>954.0</td>\n",
              "      <td>168</td>\n",
              "      <td>159.00000</td>\n",
              "      <td>NaN</td>\n",
              "      <td>NaN</td>\n",
              "      <td>2018-11-09-150235.gpx</td>\n",
              "      <td>2018-11-09</td>\n",
              "      <td>15:02:35</td>\n",
              "      <td>2018</td>\n",
              "    </tr>\n",
              "    <tr>\n",
              "      <th>2</th>\n",
              "      <td>2018-11-04 16:05:00</td>\n",
              "      <td>c09b2f92-f855-497c-b624-c196b3ef036c</td>\n",
              "      <td>Running</td>\n",
              "      <td>NaN</td>\n",
              "      <td>13.01</td>\n",
              "      <td>1:15:16</td>\n",
              "      <td>5:47</td>\n",
              "      <td>10.37</td>\n",
              "      <td>967.0</td>\n",
              "      <td>171</td>\n",
              "      <td>155.00000</td>\n",
              "      <td>NaN</td>\n",
              "      <td>NaN</td>\n",
              "      <td>2018-11-04-160500.gpx</td>\n",
              "      <td>2018-11-04</td>\n",
              "      <td>16:05:00</td>\n",
              "      <td>2018</td>\n",
              "    </tr>\n",
              "    <tr>\n",
              "      <th>3</th>\n",
              "      <td>2018-11-01 14:03:58</td>\n",
              "      <td>bc9b612d-3499-43ff-b82a-9b17b71b8a36</td>\n",
              "      <td>Running</td>\n",
              "      <td>NaN</td>\n",
              "      <td>12.98</td>\n",
              "      <td>1:14:25</td>\n",
              "      <td>5:44</td>\n",
              "      <td>10.47</td>\n",
              "      <td>960.0</td>\n",
              "      <td>169</td>\n",
              "      <td>158.00000</td>\n",
              "      <td>NaN</td>\n",
              "      <td>NaN</td>\n",
              "      <td>2018-11-01-140358.gpx</td>\n",
              "      <td>2018-11-01</td>\n",
              "      <td>14:03:58</td>\n",
              "      <td>2018</td>\n",
              "    </tr>\n",
              "    <tr>\n",
              "      <th>4</th>\n",
              "      <td>2018-10-27 17:01:36</td>\n",
              "      <td>972567b2-1b0e-437c-9e82-fef8078d6438</td>\n",
              "      <td>Running</td>\n",
              "      <td>NaN</td>\n",
              "      <td>13.02</td>\n",
              "      <td>1:12:50</td>\n",
              "      <td>5:36</td>\n",
              "      <td>10.73</td>\n",
              "      <td>967.0</td>\n",
              "      <td>170</td>\n",
              "      <td>154.00000</td>\n",
              "      <td>NaN</td>\n",
              "      <td>NaN</td>\n",
              "      <td>2018-10-27-170136.gpx</td>\n",
              "      <td>2018-10-27</td>\n",
              "      <td>17:01:36</td>\n",
              "      <td>2018</td>\n",
              "    </tr>\n",
              "    <tr>\n",
              "      <th>...</th>\n",
              "      <td>...</td>\n",
              "      <td>...</td>\n",
              "      <td>...</td>\n",
              "      <td>...</td>\n",
              "      <td>...</td>\n",
              "      <td>...</td>\n",
              "      <td>...</td>\n",
              "      <td>...</td>\n",
              "      <td>...</td>\n",
              "      <td>...</td>\n",
              "      <td>...</td>\n",
              "      <td>...</td>\n",
              "      <td>...</td>\n",
              "      <td>...</td>\n",
              "      <td>...</td>\n",
              "      <td>...</td>\n",
              "      <td>...</td>\n",
              "    </tr>\n",
              "    <tr>\n",
              "      <th>494</th>\n",
              "      <td>2012-09-08 08:35:02</td>\n",
              "      <td>730f5507-59cc-43e6-b696-387f0946c57e</td>\n",
              "      <td>Running</td>\n",
              "      <td>NaN</td>\n",
              "      <td>3.27</td>\n",
              "      <td>15:55</td>\n",
              "      <td>4:52</td>\n",
              "      <td>12.32</td>\n",
              "      <td>231.0</td>\n",
              "      <td>15</td>\n",
              "      <td>144.98556</td>\n",
              "      <td>NaN</td>\n",
              "      <td>NaN</td>\n",
              "      <td>2012-09-08-083502.gpx</td>\n",
              "      <td>2012-09-08</td>\n",
              "      <td>08:35:02</td>\n",
              "      <td>2012</td>\n",
              "    </tr>\n",
              "    <tr>\n",
              "      <th>495</th>\n",
              "      <td>2012-09-04 19:12:17</td>\n",
              "      <td>9a6868f1-a41c-435e-9775-d7a803aa61ad</td>\n",
              "      <td>Running</td>\n",
              "      <td>NaN</td>\n",
              "      <td>6.26</td>\n",
              "      <td>32:35</td>\n",
              "      <td>5:12</td>\n",
              "      <td>11.53</td>\n",
              "      <td>455.0</td>\n",
              "      <td>34</td>\n",
              "      <td>144.98556</td>\n",
              "      <td>NaN</td>\n",
              "      <td>NaN</td>\n",
              "      <td>2012-09-04-191217.gpx</td>\n",
              "      <td>2012-09-04</td>\n",
              "      <td>19:12:17</td>\n",
              "      <td>2012</td>\n",
              "    </tr>\n",
              "    <tr>\n",
              "      <th>498</th>\n",
              "      <td>2012-09-02 08:41:31</td>\n",
              "      <td>4a9e2e1b-3a98-4630-8a89-3632aea5559a</td>\n",
              "      <td>Running</td>\n",
              "      <td>NaN</td>\n",
              "      <td>3.14</td>\n",
              "      <td>16:16</td>\n",
              "      <td>5:11</td>\n",
              "      <td>11.56</td>\n",
              "      <td>230.0</td>\n",
              "      <td>18</td>\n",
              "      <td>144.98556</td>\n",
              "      <td>NaN</td>\n",
              "      <td>NaN</td>\n",
              "      <td>2012-09-02-084131.gpx</td>\n",
              "      <td>2012-09-02</td>\n",
              "      <td>08:41:31</td>\n",
              "      <td>2012</td>\n",
              "    </tr>\n",
              "    <tr>\n",
              "      <th>506</th>\n",
              "      <td>2012-08-24 08:13:12</td>\n",
              "      <td>f790bdb2-b921-4018-bd39-d59d870c5847</td>\n",
              "      <td>Running</td>\n",
              "      <td>NaN</td>\n",
              "      <td>3.15</td>\n",
              "      <td>16:00</td>\n",
              "      <td>5:05</td>\n",
              "      <td>11.82</td>\n",
              "      <td>2288868.0</td>\n",
              "      <td>17</td>\n",
              "      <td>144.98556</td>\n",
              "      <td>NaN</td>\n",
              "      <td>NaN</td>\n",
              "      <td>2012-08-24-081312.gpx</td>\n",
              "      <td>2012-08-24</td>\n",
              "      <td>08:13:12</td>\n",
              "      <td>2012</td>\n",
              "    </tr>\n",
              "    <tr>\n",
              "      <th>507</th>\n",
              "      <td>2012-08-22 18:53:54</td>\n",
              "      <td>706d4d6b-767d-40aa-81c9-e5e85a102051</td>\n",
              "      <td>Running</td>\n",
              "      <td>NaN</td>\n",
              "      <td>5.69</td>\n",
              "      <td>31:08</td>\n",
              "      <td>5:29</td>\n",
              "      <td>10.95</td>\n",
              "      <td>4072685.0</td>\n",
              "      <td>32</td>\n",
              "      <td>144.98556</td>\n",
              "      <td>NaN</td>\n",
              "      <td>NaN</td>\n",
              "      <td>2012-08-22-185354.gpx</td>\n",
              "      <td>2012-08-22</td>\n",
              "      <td>18:53:54</td>\n",
              "      <td>2012</td>\n",
              "    </tr>\n",
              "  </tbody>\n",
              "</table>\n",
              "<p>459 rows × 17 columns</p>\n",
              "</div>"
            ],
            "text/plain": [
              "                    Date                           Activity Id  ...      time  Year\n",
              "0    2018-11-11 14:05:12  c9627fed-14ac-47a2-bed3-2a2630c63c15  ...  14:05:12  2018\n",
              "1    2018-11-09 15:02:35  be65818d-a801-4847-a43b-2acdf4dc70e7  ...  15:02:35  2018\n",
              "2    2018-11-04 16:05:00  c09b2f92-f855-497c-b624-c196b3ef036c  ...  16:05:00  2018\n",
              "3    2018-11-01 14:03:58  bc9b612d-3499-43ff-b82a-9b17b71b8a36  ...  14:03:58  2018\n",
              "4    2018-10-27 17:01:36  972567b2-1b0e-437c-9e82-fef8078d6438  ...  17:01:36  2018\n",
              "..                   ...                                   ...  ...       ...   ...\n",
              "494  2012-09-08 08:35:02  730f5507-59cc-43e6-b696-387f0946c57e  ...  08:35:02  2012\n",
              "495  2012-09-04 19:12:17  9a6868f1-a41c-435e-9775-d7a803aa61ad  ...  19:12:17  2012\n",
              "498  2012-09-02 08:41:31  4a9e2e1b-3a98-4630-8a89-3632aea5559a  ...  08:41:31  2012\n",
              "506  2012-08-24 08:13:12  f790bdb2-b921-4018-bd39-d59d870c5847  ...  08:13:12  2012\n",
              "507  2012-08-22 18:53:54  706d4d6b-767d-40aa-81c9-e5e85a102051  ...  18:53:54  2012\n",
              "\n",
              "[459 rows x 17 columns]"
            ]
          },
          "metadata": {
            "tags": []
          },
          "execution_count": 31
        }
      ]
    },
    {
      "cell_type": "code",
      "metadata": {
        "id": "l6Jh6Q3fz15b",
        "colab_type": "code",
        "colab": {}
      },
      "source": [
        "y15=run_df[run_df.Year=='2015']\n",
        "y16=run_df[run_df.Year=='2016']\n",
        "y17=run_df[run_df.Year=='2017']\n",
        "y18=run_df[run_df.Year=='2018']\n",
        "\n",
        "#subdatasets of year 15,16,17,18\n"
      ],
      "execution_count": null,
      "outputs": []
    },
    {
      "cell_type": "code",
      "metadata": {
        "id": "Xc0KELY-0ack",
        "colab_type": "code",
        "colab": {}
      },
      "source": [
        "yearframe=[y15,y16,y17,y18]\n",
        "year4=pd.concat(yearframe)\n",
        "del year4['Friends Tagged'] #dataset consisting of details from 2015 till 2018"
      ],
      "execution_count": null,
      "outputs": []
    },
    {
      "cell_type": "markdown",
      "metadata": {
        "id": "yN0KJ7D7ufpd",
        "colab_type": "text"
      },
      "source": [
        "Subplots for all numerical data wrt date\n"
      ]
    },
    {
      "cell_type": "code",
      "metadata": {
        "id": "JNlSXZkq0te5",
        "colab_type": "code",
        "colab": {
          "base_uri": "https://localhost:8080/",
          "height": 1000
        },
        "outputId": "63e5895d-fe98-4b81-e06b-e40235bd74b2"
      },
      "source": [
        "import matplotlib.pyplot as plt\n",
        "%matplotlib inline\n",
        "import warnings\n",
        "plt.style.use('dark_background')\n",
        "\n",
        "year4.plot(subplots=True,sharex=False,figsize=(20,20),linestyle='none',marker='*',markersize=3,)\n",
        "plt.show()\n"
      ],
      "execution_count": null,
      "outputs": [
        {
          "output_type": "display_data",
          "data": {
            "image/png": "[encoded data removed]",
            "text/plain": [
              "<Figure size 1440x1440 with 5 Axes>"
            ]
          },
          "metadata": {
            "tags": []
          }
        }
      ]
    },
    {
      "cell_type": "markdown",
      "metadata": {
        "id": "Z2F7KvKhvnvm",
        "colab_type": "text"
      },
      "source": [
        "## **TASK-5**\n",
        "You'll know you're with a group of runners if you commonly hear questions like:\n",
        "What is your average distance? How fast do you run? Do you measure your heart rate? How often do you train?\n",
        "Let's find the answers to these questions in data. If you look back at plots in Task 4, you can see the answer to,Do you measure your heart rate? Before 2015: no. To look at the averages, let's only use the data from 2015 through 2018. In pandas, the resample() method is similar to the groupby() method - with resample()you group by a specific time span. We'll use resample() to group the time series data by a sampling period and apply several methods to each sampling period. In our case, we'll resample annually and weekly.\n",
        "\n"
      ]
    },
    {
      "cell_type": "code",
      "metadata": {
        "id": "eLNuqK8hzHCm",
        "colab_type": "code",
        "colab": {}
      },
      "source": [
        "# Prepare running data for the last 4 years\n",
        "# Calculate annual statistics\n",
        "\n",
        "# Calculate weekly statistics\n",
        "\n",
        "# Mean weekly counts\n",
        "\n",
        "\n"
      ],
      "execution_count": null,
      "outputs": []
    },
    {
      "cell_type": "code",
      "metadata": {
        "id": "eQdUMwgNhz9n",
        "colab_type": "code",
        "colab": {}
      },
      "source": [
        "year4.to_csv(\"file1.csv\")"
      ],
      "execution_count": null,
      "outputs": []
    },
    {
      "cell_type": "code",
      "metadata": {
        "id": "92-sQ4r4hyxB",
        "colab_type": "code",
        "colab": {}
      },
      "source": [
        "aframe=pd.read_csv(\"file1.csv\",parse_dates=[\"Date\"],index_col=\"Date\")"
      ],
      "execution_count": null,
      "outputs": []
    },
    {
      "cell_type": "markdown",
      "metadata": {
        "id": "iO0EPS-1mC8_",
        "colab_type": "text"
      },
      "source": [
        ""
      ]
    },
    {
      "cell_type": "code",
      "metadata": {
        "id": "5TLql3bojrig",
        "colab_type": "code",
        "colab": {
          "base_uri": "https://localhost:8080/",
          "height": 106
        },
        "outputId": "50f9469a-09cd-4a78-b37a-91bd512eef68"
      },
      "source": [
        "aa=aframe['2015-12-27'].resample('A').mean()  #resampling the data annually(2015)\n",
        "aa"
      ],
      "execution_count": null,
      "outputs": [
        {
          "output_type": "execute_result",
          "data": {
            "text/html": [
              "<div>\n",
              "<style scoped>\n",
              "    .dataframe tbody tr th:only-of-type {\n",
              "        vertical-align: middle;\n",
              "    }\n",
              "\n",
              "    .dataframe tbody tr th {\n",
              "        vertical-align: top;\n",
              "    }\n",
              "\n",
              "    .dataframe thead th {\n",
              "        text-align: right;\n",
              "    }\n",
              "</style>\n",
              "<table border=\"1\" class=\"dataframe\">\n",
              "  <thead>\n",
              "    <tr style=\"text-align: right;\">\n",
              "      <th></th>\n",
              "      <th>Unnamed: 0</th>\n",
              "      <th>Distance (km)</th>\n",
              "      <th>Average Speed (km/h)</th>\n",
              "      <th>Calories Burned</th>\n",
              "      <th>Climb (m)</th>\n",
              "      <th>Average Heart Rate (bpm)</th>\n",
              "      <th>Year</th>\n",
              "    </tr>\n",
              "    <tr>\n",
              "      <th>Date</th>\n",
              "      <th></th>\n",
              "      <th></th>\n",
              "      <th></th>\n",
              "      <th></th>\n",
              "      <th></th>\n",
              "      <th></th>\n",
              "      <th></th>\n",
              "    </tr>\n",
              "  </thead>\n",
              "  <tbody>\n",
              "    <tr>\n",
              "      <th>2015-12-31</th>\n",
              "      <td>238</td>\n",
              "      <td>13.53</td>\n",
              "      <td>10.57</td>\n",
              "      <td>921.999999</td>\n",
              "      <td>185</td>\n",
              "      <td>152.0</td>\n",
              "      <td>2015</td>\n",
              "    </tr>\n",
              "  </tbody>\n",
              "</table>\n",
              "</div>"
            ],
            "text/plain": [
              "            Unnamed: 0  Distance (km)  ...  Average Heart Rate (bpm)  Year\n",
              "Date                                   ...                                \n",
              "2015-12-31         238          13.53  ...                     152.0  2015\n",
              "\n",
              "[1 rows x 7 columns]"
            ]
          },
          "metadata": {
            "tags": []
          },
          "execution_count": 39
        }
      ]
    },
    {
      "cell_type": "code",
      "metadata": {
        "id": "K_0r3XSTpf0S",
        "colab_type": "code",
        "colab": {
          "base_uri": "https://localhost:8080/",
          "height": 106
        },
        "outputId": "0e84dca6-9020-43c4-a618-ad7b01400eea"
      },
      "source": [
        "ab=aframe['2016-12-26'].resample('A').mean()  #resampling the data annually(2016)\n",
        "ab"
      ],
      "execution_count": null,
      "outputs": [
        {
          "output_type": "execute_result",
          "data": {
            "text/html": [
              "<div>\n",
              "<style scoped>\n",
              "    .dataframe tbody tr th:only-of-type {\n",
              "        vertical-align: middle;\n",
              "    }\n",
              "\n",
              "    .dataframe tbody tr th {\n",
              "        vertical-align: top;\n",
              "    }\n",
              "\n",
              "    .dataframe thead th {\n",
              "        text-align: right;\n",
              "    }\n",
              "</style>\n",
              "<table border=\"1\" class=\"dataframe\">\n",
              "  <thead>\n",
              "    <tr style=\"text-align: right;\">\n",
              "      <th></th>\n",
              "      <th>Unnamed: 0</th>\n",
              "      <th>Distance (km)</th>\n",
              "      <th>Average Speed (km/h)</th>\n",
              "      <th>Calories Burned</th>\n",
              "      <th>Climb (m)</th>\n",
              "      <th>Average Heart Rate (bpm)</th>\n",
              "      <th>Year</th>\n",
              "    </tr>\n",
              "    <tr>\n",
              "      <th>Date</th>\n",
              "      <th></th>\n",
              "      <th></th>\n",
              "      <th></th>\n",
              "      <th></th>\n",
              "      <th></th>\n",
              "      <th></th>\n",
              "      <th></th>\n",
              "    </tr>\n",
              "  </thead>\n",
              "  <tbody>\n",
              "    <tr>\n",
              "      <th>2016-12-31</th>\n",
              "      <td>160</td>\n",
              "      <td>6.92</td>\n",
              "      <td>10.45</td>\n",
              "      <td>479.0</td>\n",
              "      <td>67</td>\n",
              "      <td>139.0</td>\n",
              "      <td>2016</td>\n",
              "    </tr>\n",
              "  </tbody>\n",
              "</table>\n",
              "</div>"
            ],
            "text/plain": [
              "            Unnamed: 0  Distance (km)  ...  Average Heart Rate (bpm)  Year\n",
              "Date                                   ...                                \n",
              "2016-12-31         160           6.92  ...                     139.0  2016\n",
              "\n",
              "[1 rows x 7 columns]"
            ]
          },
          "metadata": {
            "tags": []
          },
          "execution_count": 40
        }
      ]
    },
    {
      "cell_type": "code",
      "metadata": {
        "id": "0LvLRRhYpgCc",
        "colab_type": "code",
        "colab": {
          "base_uri": "https://localhost:8080/",
          "height": 106
        },
        "outputId": "224864af-9e51-4c60-fccb-8164a07f3ee3"
      },
      "source": [
        "ac=aframe['2017-12-27'].resample('A').mean()   #resampling the data annually(2017)\n",
        "ac"
      ],
      "execution_count": null,
      "outputs": [
        {
          "output_type": "execute_result",
          "data": {
            "text/html": [
              "<div>\n",
              "<style scoped>\n",
              "    .dataframe tbody tr th:only-of-type {\n",
              "        vertical-align: middle;\n",
              "    }\n",
              "\n",
              "    .dataframe tbody tr th {\n",
              "        vertical-align: top;\n",
              "    }\n",
              "\n",
              "    .dataframe thead th {\n",
              "        text-align: right;\n",
              "    }\n",
              "</style>\n",
              "<table border=\"1\" class=\"dataframe\">\n",
              "  <thead>\n",
              "    <tr style=\"text-align: right;\">\n",
              "      <th></th>\n",
              "      <th>Unnamed: 0</th>\n",
              "      <th>Distance (km)</th>\n",
              "      <th>Average Speed (km/h)</th>\n",
              "      <th>Calories Burned</th>\n",
              "      <th>Climb (m)</th>\n",
              "      <th>Average Heart Rate (bpm)</th>\n",
              "      <th>Year</th>\n",
              "    </tr>\n",
              "    <tr>\n",
              "      <th>Date</th>\n",
              "      <th></th>\n",
              "      <th></th>\n",
              "      <th></th>\n",
              "      <th></th>\n",
              "      <th></th>\n",
              "      <th></th>\n",
              "      <th></th>\n",
              "    </tr>\n",
              "  </thead>\n",
              "  <tbody>\n",
              "    <tr>\n",
              "      <th>2017-12-31</th>\n",
              "      <td>72</td>\n",
              "      <td>8.29</td>\n",
              "      <td>10.83</td>\n",
              "      <td>622.0</td>\n",
              "      <td>131</td>\n",
              "      <td>147.0</td>\n",
              "      <td>2017</td>\n",
              "    </tr>\n",
              "  </tbody>\n",
              "</table>\n",
              "</div>"
            ],
            "text/plain": [
              "            Unnamed: 0  Distance (km)  ...  Average Heart Rate (bpm)  Year\n",
              "Date                                   ...                                \n",
              "2017-12-31          72           8.29  ...                     147.0  2017\n",
              "\n",
              "[1 rows x 7 columns]"
            ]
          },
          "metadata": {
            "tags": []
          },
          "execution_count": 41
        }
      ]
    },
    {
      "cell_type": "code",
      "metadata": {
        "id": "kl6AGqvVpgQr",
        "colab_type": "code",
        "colab": {
          "base_uri": "https://localhost:8080/",
          "height": 106
        },
        "outputId": "fe82f090-f562-4c99-fa1d-b12e0088202e"
      },
      "source": [
        "ad=aframe['2018-11-11'].resample('A').mean()   #resampling the data annually(2018)\n",
        "ad"
      ],
      "execution_count": null,
      "outputs": [
        {
          "output_type": "execute_result",
          "data": {
            "text/html": [
              "<div>\n",
              "<style scoped>\n",
              "    .dataframe tbody tr th:only-of-type {\n",
              "        vertical-align: middle;\n",
              "    }\n",
              "\n",
              "    .dataframe tbody tr th {\n",
              "        vertical-align: top;\n",
              "    }\n",
              "\n",
              "    .dataframe thead th {\n",
              "        text-align: right;\n",
              "    }\n",
              "</style>\n",
              "<table border=\"1\" class=\"dataframe\">\n",
              "  <thead>\n",
              "    <tr style=\"text-align: right;\">\n",
              "      <th></th>\n",
              "      <th>Unnamed: 0</th>\n",
              "      <th>Distance (km)</th>\n",
              "      <th>Average Speed (km/h)</th>\n",
              "      <th>Calories Burned</th>\n",
              "      <th>Climb (m)</th>\n",
              "      <th>Average Heart Rate (bpm)</th>\n",
              "      <th>Year</th>\n",
              "    </tr>\n",
              "    <tr>\n",
              "      <th>Date</th>\n",
              "      <th></th>\n",
              "      <th></th>\n",
              "      <th></th>\n",
              "      <th></th>\n",
              "      <th></th>\n",
              "      <th></th>\n",
              "      <th></th>\n",
              "    </tr>\n",
              "  </thead>\n",
              "  <tbody>\n",
              "    <tr>\n",
              "      <th>2018-12-31</th>\n",
              "      <td>0</td>\n",
              "      <td>10.44</td>\n",
              "      <td>10.68</td>\n",
              "      <td>774.0</td>\n",
              "      <td>130</td>\n",
              "      <td>159.0</td>\n",
              "      <td>2018</td>\n",
              "    </tr>\n",
              "  </tbody>\n",
              "</table>\n",
              "</div>"
            ],
            "text/plain": [
              "            Unnamed: 0  Distance (km)  ...  Average Heart Rate (bpm)  Year\n",
              "Date                                   ...                                \n",
              "2018-12-31           0          10.44  ...                     159.0  2018\n",
              "\n",
              "[1 rows x 7 columns]"
            ]
          },
          "metadata": {
            "tags": []
          },
          "execution_count": 42
        }
      ]
    },
    {
      "cell_type": "code",
      "metadata": {
        "id": "3FqKlUQYsBn5",
        "colab_type": "code",
        "colab": {
          "base_uri": "https://localhost:8080/",
          "height": 194
        },
        "outputId": "9e15323e-c570-4cb1-c464-f2776f70f72c"
      },
      "source": [
        "ax=[aa,ab,ac,ad]\n",
        "awhole=pd.concat(ax) \n",
        "awhole[['Distance (km)','Average Speed (km/h)','Climb (m)','Average Heart Rate (bpm)']]"
      ],
      "execution_count": null,
      "outputs": [
        {
          "output_type": "execute_result",
          "data": {
            "text/html": [
              "<div>\n",
              "<style scoped>\n",
              "    .dataframe tbody tr th:only-of-type {\n",
              "        vertical-align: middle;\n",
              "    }\n",
              "\n",
              "    .dataframe tbody tr th {\n",
              "        vertical-align: top;\n",
              "    }\n",
              "\n",
              "    .dataframe thead th {\n",
              "        text-align: right;\n",
              "    }\n",
              "</style>\n",
              "<table border=\"1\" class=\"dataframe\">\n",
              "  <thead>\n",
              "    <tr style=\"text-align: right;\">\n",
              "      <th></th>\n",
              "      <th>Distance (km)</th>\n",
              "      <th>Average Speed (km/h)</th>\n",
              "      <th>Climb (m)</th>\n",
              "      <th>Average Heart Rate (bpm)</th>\n",
              "    </tr>\n",
              "    <tr>\n",
              "      <th>Date</th>\n",
              "      <th></th>\n",
              "      <th></th>\n",
              "      <th></th>\n",
              "      <th></th>\n",
              "    </tr>\n",
              "  </thead>\n",
              "  <tbody>\n",
              "    <tr>\n",
              "      <th>2015-12-31</th>\n",
              "      <td>13.53</td>\n",
              "      <td>10.57</td>\n",
              "      <td>185</td>\n",
              "      <td>152.0</td>\n",
              "    </tr>\n",
              "    <tr>\n",
              "      <th>2016-12-31</th>\n",
              "      <td>6.92</td>\n",
              "      <td>10.45</td>\n",
              "      <td>67</td>\n",
              "      <td>139.0</td>\n",
              "    </tr>\n",
              "    <tr>\n",
              "      <th>2017-12-31</th>\n",
              "      <td>8.29</td>\n",
              "      <td>10.83</td>\n",
              "      <td>131</td>\n",
              "      <td>147.0</td>\n",
              "    </tr>\n",
              "    <tr>\n",
              "      <th>2018-12-31</th>\n",
              "      <td>10.44</td>\n",
              "      <td>10.68</td>\n",
              "      <td>130</td>\n",
              "      <td>159.0</td>\n",
              "    </tr>\n",
              "  </tbody>\n",
              "</table>\n",
              "</div>"
            ],
            "text/plain": [
              "            Distance (km)  ...  Average Heart Rate (bpm)\n",
              "Date                       ...                          \n",
              "2015-12-31          13.53  ...                     152.0\n",
              "2016-12-31           6.92  ...                     139.0\n",
              "2017-12-31           8.29  ...                     147.0\n",
              "2018-12-31          10.44  ...                     159.0\n",
              "\n",
              "[4 rows x 4 columns]"
            ]
          },
          "metadata": {
            "tags": []
          },
          "execution_count": 43
        }
      ]
    },
    {
      "cell_type": "code",
      "metadata": {
        "id": "s0WXsf2a--Ac",
        "colab_type": "code",
        "colab": {
          "base_uri": "https://localhost:8080/",
          "height": 106
        },
        "outputId": "d8ee9c0c-faa8-4f93-c5d7-c20910dec279"
      },
      "source": [
        "ba=aframe['2015-09-07'].resample('W').mean()   #resampling the data weekly(2015)\n",
        "ba[['Distance (km)','Average Speed (km/h)','Climb (m)','Average Heart Rate (bpm)']]"
      ],
      "execution_count": null,
      "outputs": [
        {
          "output_type": "execute_result",
          "data": {
            "text/html": [
              "<div>\n",
              "<style scoped>\n",
              "    .dataframe tbody tr th:only-of-type {\n",
              "        vertical-align: middle;\n",
              "    }\n",
              "\n",
              "    .dataframe tbody tr th {\n",
              "        vertical-align: top;\n",
              "    }\n",
              "\n",
              "    .dataframe thead th {\n",
              "        text-align: right;\n",
              "    }\n",
              "</style>\n",
              "<table border=\"1\" class=\"dataframe\">\n",
              "  <thead>\n",
              "    <tr style=\"text-align: right;\">\n",
              "      <th></th>\n",
              "      <th>Distance (km)</th>\n",
              "      <th>Average Speed (km/h)</th>\n",
              "      <th>Climb (m)</th>\n",
              "      <th>Average Heart Rate (bpm)</th>\n",
              "    </tr>\n",
              "    <tr>\n",
              "      <th>Date</th>\n",
              "      <th></th>\n",
              "      <th></th>\n",
              "      <th></th>\n",
              "      <th></th>\n",
              "    </tr>\n",
              "  </thead>\n",
              "  <tbody>\n",
              "    <tr>\n",
              "      <th>2015-09-13</th>\n",
              "      <td>15.62</td>\n",
              "      <td>11.32</td>\n",
              "      <td>241</td>\n",
              "      <td>144.0</td>\n",
              "    </tr>\n",
              "  </tbody>\n",
              "</table>\n",
              "</div>"
            ],
            "text/plain": [
              "            Distance (km)  ...  Average Heart Rate (bpm)\n",
              "Date                       ...                          \n",
              "2015-09-13          15.62  ...                     144.0\n",
              "\n",
              "[1 rows x 4 columns]"
            ]
          },
          "metadata": {
            "tags": []
          },
          "execution_count": 44
        }
      ]
    },
    {
      "cell_type": "code",
      "metadata": {
        "id": "V0yQabEgDmX1",
        "colab_type": "code",
        "colab": {
          "base_uri": "https://localhost:8080/",
          "height": 106
        },
        "outputId": "821af68e-1f65-4f50-c739-63797ffcbd59"
      },
      "source": [
        "bb=aframe['2016-09-08'].resample('W-MON').mean()  #resampling the data weekly(2016)\n",
        "bb[['Distance (km)','Average Speed (km/h)','Climb (m)','Average Heart Rate (bpm)']]"
      ],
      "execution_count": null,
      "outputs": [
        {
          "output_type": "execute_result",
          "data": {
            "text/html": [
              "<div>\n",
              "<style scoped>\n",
              "    .dataframe tbody tr th:only-of-type {\n",
              "        vertical-align: middle;\n",
              "    }\n",
              "\n",
              "    .dataframe tbody tr th {\n",
              "        vertical-align: top;\n",
              "    }\n",
              "\n",
              "    .dataframe thead th {\n",
              "        text-align: right;\n",
              "    }\n",
              "</style>\n",
              "<table border=\"1\" class=\"dataframe\">\n",
              "  <thead>\n",
              "    <tr style=\"text-align: right;\">\n",
              "      <th></th>\n",
              "      <th>Distance (km)</th>\n",
              "      <th>Average Speed (km/h)</th>\n",
              "      <th>Climb (m)</th>\n",
              "      <th>Average Heart Rate (bpm)</th>\n",
              "    </tr>\n",
              "    <tr>\n",
              "      <th>Date</th>\n",
              "      <th></th>\n",
              "      <th></th>\n",
              "      <th></th>\n",
              "      <th></th>\n",
              "    </tr>\n",
              "  </thead>\n",
              "  <tbody>\n",
              "    <tr>\n",
              "      <th>2016-09-12</th>\n",
              "      <td>13.12</td>\n",
              "      <td>12.17</td>\n",
              "      <td>110</td>\n",
              "      <td>154.0</td>\n",
              "    </tr>\n",
              "  </tbody>\n",
              "</table>\n",
              "</div>"
            ],
            "text/plain": [
              "            Distance (km)  ...  Average Heart Rate (bpm)\n",
              "Date                       ...                          \n",
              "2016-09-12          13.12  ...                     154.0\n",
              "\n",
              "[1 rows x 4 columns]"
            ]
          },
          "metadata": {
            "tags": []
          },
          "execution_count": 45
        }
      ]
    },
    {
      "cell_type": "code",
      "metadata": {
        "id": "UJbvMLKAEftJ",
        "colab_type": "code",
        "colab": {
          "base_uri": "https://localhost:8080/",
          "height": 106
        },
        "outputId": "a2fd7eb8-36c1-4fc8-d8f0-5de35835a1db"
      },
      "source": [
        "bc=aframe['2017-09-07'].resample('W').mean()  #resampling the data weekly(2017)\n",
        "\n",
        "\n",
        "bc[['Distance (km)','Average Speed (km/h)','Climb (m)','Average Heart Rate (bpm)']]"
      ],
      "execution_count": null,
      "outputs": [
        {
          "output_type": "execute_result",
          "data": {
            "text/html": [
              "<div>\n",
              "<style scoped>\n",
              "    .dataframe tbody tr th:only-of-type {\n",
              "        vertical-align: middle;\n",
              "    }\n",
              "\n",
              "    .dataframe tbody tr th {\n",
              "        vertical-align: top;\n",
              "    }\n",
              "\n",
              "    .dataframe thead th {\n",
              "        text-align: right;\n",
              "    }\n",
              "</style>\n",
              "<table border=\"1\" class=\"dataframe\">\n",
              "  <thead>\n",
              "    <tr style=\"text-align: right;\">\n",
              "      <th></th>\n",
              "      <th>Distance (km)</th>\n",
              "      <th>Average Speed (km/h)</th>\n",
              "      <th>Climb (m)</th>\n",
              "      <th>Average Heart Rate (bpm)</th>\n",
              "    </tr>\n",
              "    <tr>\n",
              "      <th>Date</th>\n",
              "      <th></th>\n",
              "      <th></th>\n",
              "      <th></th>\n",
              "      <th></th>\n",
              "    </tr>\n",
              "  </thead>\n",
              "  <tbody>\n",
              "    <tr>\n",
              "      <th>2017-09-10</th>\n",
              "      <td>8.5</td>\n",
              "      <td>11.45</td>\n",
              "      <td>88</td>\n",
              "      <td>141.0</td>\n",
              "    </tr>\n",
              "  </tbody>\n",
              "</table>\n",
              "</div>"
            ],
            "text/plain": [
              "            Distance (km)  ...  Average Heart Rate (bpm)\n",
              "Date                       ...                          \n",
              "2017-09-10            8.5  ...                     141.0\n",
              "\n",
              "[1 rows x 4 columns]"
            ]
          },
          "metadata": {
            "tags": []
          },
          "execution_count": 46
        }
      ]
    },
    {
      "cell_type": "code",
      "metadata": {
        "id": "N37GMVa3Erov",
        "colab_type": "code",
        "colab": {
          "base_uri": "https://localhost:8080/",
          "height": 106
        },
        "outputId": "f13605d0-5dda-465a-fd4b-0cb4e36f13c1"
      },
      "source": [
        "bd=aframe['2018-09-30'].resample('W').mean()  #resampling the data weekly(2018)\n",
        "\n",
        "bd[['Distance (km)','Average Speed (km/h)','Climb (m)','Average Heart Rate (bpm)']]\n"
      ],
      "execution_count": null,
      "outputs": [
        {
          "output_type": "execute_result",
          "data": {
            "text/html": [
              "<div>\n",
              "<style scoped>\n",
              "    .dataframe tbody tr th:only-of-type {\n",
              "        vertical-align: middle;\n",
              "    }\n",
              "\n",
              "    .dataframe tbody tr th {\n",
              "        vertical-align: top;\n",
              "    }\n",
              "\n",
              "    .dataframe thead th {\n",
              "        text-align: right;\n",
              "    }\n",
              "</style>\n",
              "<table border=\"1\" class=\"dataframe\">\n",
              "  <thead>\n",
              "    <tr style=\"text-align: right;\">\n",
              "      <th></th>\n",
              "      <th>Distance (km)</th>\n",
              "      <th>Average Speed (km/h)</th>\n",
              "      <th>Climb (m)</th>\n",
              "      <th>Average Heart Rate (bpm)</th>\n",
              "    </tr>\n",
              "    <tr>\n",
              "      <th>Date</th>\n",
              "      <th></th>\n",
              "      <th></th>\n",
              "      <th></th>\n",
              "      <th></th>\n",
              "    </tr>\n",
              "  </thead>\n",
              "  <tbody>\n",
              "    <tr>\n",
              "      <th>2018-09-30</th>\n",
              "      <td>12.97</td>\n",
              "      <td>10.52</td>\n",
              "      <td>171</td>\n",
              "      <td>156.0</td>\n",
              "    </tr>\n",
              "  </tbody>\n",
              "</table>\n",
              "</div>"
            ],
            "text/plain": [
              "            Distance (km)  ...  Average Heart Rate (bpm)\n",
              "Date                       ...                          \n",
              "2018-09-30          12.97  ...                     156.0\n",
              "\n",
              "[1 rows x 4 columns]"
            ]
          },
          "metadata": {
            "tags": []
          },
          "execution_count": 47
        }
      ]
    },
    {
      "cell_type": "markdown",
      "metadata": {
        "id": "VCmzlwD8wjoB",
        "colab_type": "text"
      },
      "source": [
        "# **Weekly average of all 4years:**"
      ]
    },
    {
      "cell_type": "code",
      "metadata": {
        "id": "Ki_5BFOjE6lF",
        "colab_type": "code",
        "colab": {
          "base_uri": "https://localhost:8080/",
          "height": 106
        },
        "outputId": "cb6eb83e-8f7a-4018-f375-b1931a8e461d"
      },
      "source": [
        "weekwhole=pd.concat([ba,bb,bc,bd])\n",
        "f1=weekwhole[['Distance (km)','Average Speed (km/h)','Climb (m)','Average Heart Rate (bpm)']].resample('W').interpolate()[::7].mean()\n",
        "f1"
      ],
      "execution_count": null,
      "outputs": [
        {
          "output_type": "execute_result",
          "data": {
            "text/plain": [
              "Distance (km)                11.676539\n",
              "Average Speed (km/h)         11.255187\n",
              "Climb (m)                   154.154629\n",
              "Average Heart Rate (bpm)    144.453671\n",
              "dtype: float64"
            ]
          },
          "metadata": {
            "tags": []
          },
          "execution_count": 48
        }
      ]
    },
    {
      "cell_type": "markdown",
      "metadata": {
        "id": "xcfJ5RHDwvVu",
        "colab_type": "text"
      },
      "source": [
        "## **TASK-6**\n",
        "Let's plot the long term averages of distance run and heart rate with their raw data to visually compare the averages to each training session. Again, we'll use the data from 2015 through 2018. In this task, we will use matplotlib functionality for plot creation and customization.\n"
      ]
    },
    {
      "cell_type": "code",
      "metadata": {
        "id": "6aULZ9KLzeUO",
        "colab_type": "code",
        "colab": {}
      },
      "source": [
        "# Prepare data\n",
        "\n",
        "# Create plot\n",
        "\n",
        "\n",
        "# Plot and customize first subplot\n",
        "\n",
        "# Plot and customize second subplot\n",
        "\n",
        "# Show plot\n"
      ],
      "execution_count": null,
      "outputs": []
    },
    {
      "cell_type": "code",
      "metadata": {
        "id": "iWhyEarcNuGA",
        "colab_type": "code",
        "colab": {}
      },
      "source": [
        "q1=aframe[\"2015-06-01\":\"2015-12-27\"]\n",
        "q1"
      ],
      "execution_count": null,
      "outputs": []
    },
    {
      "cell_type": "code",
      "metadata": {
        "id": "HHI0Z67xGw08",
        "colab_type": "code",
        "colab": {
          "base_uri": "https://localhost:8080/",
          "height": 405
        },
        "outputId": "a460f230-e015-4205-a2b6-ca38eba4fa8e"
      },
      "source": [
        "fig,a1=plt.subplots(1,2,figsize=(50,15))\n",
        "a1[0].bar(awhole['Year'],awhole['Average Heart Rate (bpm)'])\n",
        "a1[0].set( xlabel = \"Distance (km)\",ylabel = \"Avg Heart Rate (bpm)\")\n",
        "\n",
        "a1[1].bar(awhole['Year'],awhole['Distance (km)'])\n",
        "a1[1].set( xlabel = \"Distance (km)\",ylabel = \"Avg Heart Rate (bpm)\")\n",
        "\n",
        "\n",
        "\n",
        "plt.show()"
      ],
      "execution_count": null,
      "outputs": [
        {
          "output_type": "display_data",
          "data": {
            "image/png": "[encoded data removed]",
            "text/plain": [
              "<Figure size 3600x1080 with 2 Axes>"
            ]
          },
          "metadata": {
            "tags": []
          }
        }
      ]
    },
    {
      "cell_type": "markdown",
      "metadata": {
        "id": "nWz64MDXw57P",
        "colab_type": "text"
      },
      "source": [
        "## **TASK-7**\n",
        "Let's dive a little deeper into the data to answer a tricky question: is person progressing in terms of his running skills? To answer this question, we'll decompose weekly distance run and visually compare it to the raw data. A red trend line will represent the weekly distance run. We are going to use statsmodels library to decompose the weekly trend.\n",
        "\n",
        "\n",
        "\n",
        "look for stats model decompose method to deal with time series data\n"
      ]
    },
    {
      "cell_type": "code",
      "metadata": {
        "id": "mV6FGTxdzopp",
        "colab_type": "code",
        "colab": {}
      },
      "source": [
        "# Import required library\n",
        "\n",
        "\n",
        "# Prepare data\n",
        "\n",
        "# Create plot\n",
        "\n",
        "\n",
        "# Plot and customize\n",
        "\n",
        "\n",
        "# Show plot\n",
        "\n",
        "\n"
      ],
      "execution_count": null,
      "outputs": []
    },
    {
      "cell_type": "code",
      "metadata": {
        "id": "ulnT28CEKErO",
        "colab_type": "code",
        "colab": {
          "base_uri": "https://localhost:8080/",
          "height": 361
        },
        "outputId": "d0cb8a7b-3cf0-4a0c-fe17-687405873283"
      },
      "source": [
        "import statsmodels.api as sm\n",
        "\n",
        "\n",
        "df_run_dist_wkly = aframe.loc['2013-01-01':'2019-01-01']['Distance (km)'].resample('W').bfill()\n",
        "decomposed = sm.tsa.seasonal_decompose(df_run_dist_wkly, extrapolate_trend=1, freq=52)\n",
        "\n",
        "fig = plt.figure(figsize=(12,5))\n",
        "\n",
        "#Showing trends and observed plots\n",
        "ax = decomposed.trend.plot(label='Trend', linewidth=2)\n",
        "ax = decomposed.observed.plot(label='Actual', linewidth=1)\n",
        "\n",
        "ax.legend()\n",
        "ax.set_title('Running distance trend')\n",
        "\n",
        "\n",
        "plt.show()\n"
      ],
      "execution_count": null,
      "outputs": [
        {
          "output_type": "display_data",
          "data": {
            "image/png": "[encoded data removed]",
            "text/plain": [
              "<Figure size 864x360 with 1 Axes>"
            ]
          },
          "metadata": {
            "tags": []
          }
        }
      ]
    },
    {
      "cell_type": "markdown",
      "metadata": {
        "id": "svxbfmSkw-us",
        "colab_type": "text"
      },
      "source": [
        "## **TASK-8**\n",
        "Heart rate is a popular metric used to measure training intensity. Depending on age and fitness level, heart rates are grouped into different zones that people can target depending on training goals. A target heart rate during moderate-intensity activities is about 50-70% of maximum heart rate, while during vigorous physical activity it’s about 70-85% of maximum. We'll create a distribution plot of heart rate data by training intensity. It will be a visual presentation for the number of activities from predefined training zones\n"
      ]
    },
    {
      "cell_type": "code",
      "metadata": {
        "id": "dXVuzfzRzvlz",
        "colab_type": "code",
        "colab": {}
      },
      "source": [
        "# Prepare data\n",
        "\n",
        "# Create plot\n",
        "\n",
        "\n",
        "# Plot and customize\n",
        "\n",
        "\n"
      ],
      "execution_count": null,
      "outputs": []
    },
    {
      "cell_type": "code",
      "metadata": {
        "id": "HUdmiUbQVI7A",
        "colab_type": "code",
        "colab": {}
      },
      "source": [
        "run_df=rf[rf.Type=='Running']\n",
        "walk_df=rf[rf.Type=='Walking']\n",
        "cyc_df=rf[rf.Type=='Cycling']\n",
        "uni_df=rf[rf.Type=='Unicycling']\n"
      ],
      "execution_count": null,
      "outputs": []
    },
    {
      "cell_type": "code",
      "metadata": {
        "id": "iBgWP47QYSzX",
        "colab_type": "code",
        "colab": {}
      },
      "source": [
        "h1 # mean of average heart rate of running activity"
      ],
      "execution_count": null,
      "outputs": []
    },
    {
      "cell_type": "code",
      "metadata": {
        "id": "Gx2vvMrYYfrL",
        "colab_type": "code",
        "colab": {}
      },
      "source": [
        "h2  # mean of average heart rate of walking activity"
      ],
      "execution_count": null,
      "outputs": []
    },
    {
      "cell_type": "code",
      "metadata": {
        "id": "koY3CYOcYpZw",
        "colab_type": "code",
        "colab": {}
      },
      "source": [
        "h3  # mean of average heart rate of cycling activity"
      ],
      "execution_count": null,
      "outputs": []
    },
    {
      "cell_type": "code",
      "metadata": {
        "id": "CSS0C25NYsAo",
        "colab_type": "code",
        "colab": {}
      },
      "source": [
        "h4  # mean of average heart rate of unicycling activity"
      ],
      "execution_count": null,
      "outputs": []
    },
    {
      "cell_type": "code",
      "metadata": {
        "id": "n2FOJLwtycAP",
        "colab_type": "code",
        "colab": {}
      },
      "source": [
        "bin_edges=[h1,h2,h3,h4]\n",
        "hist=[\"Running\",\"Walking\",\"Cycling\",\"Unicycling\"]\n",
        "\n"
      ],
      "execution_count": null,
      "outputs": []
    },
    {
      "cell_type": "markdown",
      "metadata": {
        "id": "lmUx-xLExhb8",
        "colab_type": "text"
      },
      "source": [
        "## Normal Distribution Plot"
      ]
    },
    {
      "cell_type": "code",
      "metadata": {
        "id": "f6wn7u-P0ZQf",
        "colab_type": "code",
        "colab": {
          "base_uri": "https://localhost:8080/",
          "height": 525
        },
        "outputId": "8e999db1-6493-4c60-fc02-6ca8285f9f43"
      },
      "source": [
        "plt.figure(figsize=[10,8])\n",
        "\n",
        "plt.bar(hist, bin_edges, width = 0.5, color='#0504aa',alpha=1)\n",
        "#plt.xlim(min(bin_edges), max(bin_edges))\n",
        "plt.grid(axis='y', alpha=0.75)\n",
        "plt.xlabel('Types',fontsize=15)\n",
        "plt.xticks(fontsize=15)\n",
        "plt.yticks(fontsize=15)\n",
        "plt.ylabel('Average Heart Rate (bpm)',fontsize=15)\n",
        "plt.title('Normal Distribution Histogram',fontsize=15)\n",
        "plt.show()"
      ],
      "execution_count": null,
      "outputs": [
        {
          "output_type": "display_data",
          "data": {
            "image/png": "[encoded data removed]",
            "text/plain": [
              "<Figure size 720x576 with 1 Axes>"
            ]
          },
          "metadata": {
            "tags": []
          }
        }
      ]
    },
    {
      "cell_type": "markdown",
      "metadata": {
        "id": "ciu8O-lvxyCo",
        "colab_type": "text"
      },
      "source": [
        "## **TASK-09**\n",
        "With all this data cleaning, analysis, and visualization, let's create detailed summary tables of my training. To do this, we'll create two tables. The first table will be a summary of the distance (km) and climb (m) variables for each training activity. The second table will list the summary statistics for the average speed (km/hr), climb (m), and distance (km) variables for each training activity.\n",
        "\n"
      ]
    },
    {
      "cell_type": "code",
      "metadata": {
        "id": "bYv5HfOOz5Si",
        "colab_type": "code",
        "colab": {}
      },
      "source": [
        "# Concatenating three DataFrames\n",
        "\n",
        "# Calculating total distance and climb in each type of activities\n",
        "\n",
        "\n",
        "\n",
        "# Calculating summary statistics for each type of activities \n",
        "\n",
        "# Combine totals with summary\n",
        "\n",
        "\n",
        "\n"
      ],
      "execution_count": null,
      "outputs": []
    },
    {
      "cell_type": "code",
      "metadata": {
        "id": "gLvcvn1W2b6I",
        "colab_type": "code",
        "colab": {
          "base_uri": "https://localhost:8080/",
          "height": 164
        },
        "outputId": "bf7b5e80-4e1b-49a7-c4c8-0cd42269f90c"
      },
      "source": [
        "df_act=run_df.append([walk_df,cyc_df])\n",
        "dis_climb_sum=['Distance (km)', 'Climb (m)']\n",
        "df_total = df_act.groupby('Type')[dis_climb_sum].sum()\n",
        "df_total"
      ],
      "execution_count": null,
      "outputs": [
        {
          "output_type": "execute_result",
          "data": {
            "text/html": [
              "<div>\n",
              "<style scoped>\n",
              "    .dataframe tbody tr th:only-of-type {\n",
              "        vertical-align: middle;\n",
              "    }\n",
              "\n",
              "    .dataframe tbody tr th {\n",
              "        vertical-align: top;\n",
              "    }\n",
              "\n",
              "    .dataframe thead th {\n",
              "        text-align: right;\n",
              "    }\n",
              "</style>\n",
              "<table border=\"1\" class=\"dataframe\">\n",
              "  <thead>\n",
              "    <tr style=\"text-align: right;\">\n",
              "      <th></th>\n",
              "      <th>Distance (km)</th>\n",
              "      <th>Climb (m)</th>\n",
              "    </tr>\n",
              "    <tr>\n",
              "      <th>Type</th>\n",
              "      <th></th>\n",
              "      <th></th>\n",
              "    </tr>\n",
              "  </thead>\n",
              "  <tbody>\n",
              "    <tr>\n",
              "      <th>Cycling</th>\n",
              "      <td>680.58</td>\n",
              "      <td>6976</td>\n",
              "    </tr>\n",
              "    <tr>\n",
              "      <th>Running</th>\n",
              "      <td>5224.50</td>\n",
              "      <td>57278</td>\n",
              "    </tr>\n",
              "    <tr>\n",
              "      <th>Walking</th>\n",
              "      <td>33.45</td>\n",
              "      <td>349</td>\n",
              "    </tr>\n",
              "  </tbody>\n",
              "</table>\n",
              "</div>"
            ],
            "text/plain": [
              "         Distance (km)  Climb (m)\n",
              "Type                             \n",
              "Cycling         680.58       6976\n",
              "Running        5224.50      57278\n",
              "Walking          33.45        349"
            ]
          },
          "metadata": {
            "tags": []
          },
          "execution_count": 59
        }
      ]
    },
    {
      "cell_type": "code",
      "metadata": {
        "id": "vNt7CuGd6PRj",
        "colab_type": "code",
        "colab": {
          "base_uri": "https://localhost:8080/",
          "height": 214
        },
        "outputId": "bb7cf1f8-eec7-4951-82a4-85daa594b519"
      },
      "source": [
        "speed=['Average Speed (km/h)']\n",
        "df_summ = df_act.groupby('Type')[dis_climb_sum + speed].describe()\n",
        "df_summ\n"
      ],
      "execution_count": null,
      "outputs": [
        {
          "output_type": "execute_result",
          "data": {
            "text/html": [
              "<div>\n",
              "<style scoped>\n",
              "    .dataframe tbody tr th:only-of-type {\n",
              "        vertical-align: middle;\n",
              "    }\n",
              "\n",
              "    .dataframe tbody tr th {\n",
              "        vertical-align: top;\n",
              "    }\n",
              "\n",
              "    .dataframe thead tr th {\n",
              "        text-align: left;\n",
              "    }\n",
              "\n",
              "    .dataframe thead tr:last-of-type th {\n",
              "        text-align: right;\n",
              "    }\n",
              "</style>\n",
              "<table border=\"1\" class=\"dataframe\">\n",
              "  <thead>\n",
              "    <tr>\n",
              "      <th></th>\n",
              "      <th colspan=\"8\" halign=\"left\">Distance (km)</th>\n",
              "      <th colspan=\"8\" halign=\"left\">Climb (m)</th>\n",
              "      <th colspan=\"8\" halign=\"left\">Average Speed (km/h)</th>\n",
              "    </tr>\n",
              "    <tr>\n",
              "      <th></th>\n",
              "      <th>count</th>\n",
              "      <th>mean</th>\n",
              "      <th>std</th>\n",
              "      <th>min</th>\n",
              "      <th>25%</th>\n",
              "      <th>50%</th>\n",
              "      <th>75%</th>\n",
              "      <th>max</th>\n",
              "      <th>count</th>\n",
              "      <th>mean</th>\n",
              "      <th>std</th>\n",
              "      <th>min</th>\n",
              "      <th>25%</th>\n",
              "      <th>50%</th>\n",
              "      <th>75%</th>\n",
              "      <th>max</th>\n",
              "      <th>count</th>\n",
              "      <th>mean</th>\n",
              "      <th>std</th>\n",
              "      <th>min</th>\n",
              "      <th>25%</th>\n",
              "      <th>50%</th>\n",
              "      <th>75%</th>\n",
              "      <th>max</th>\n",
              "    </tr>\n",
              "    <tr>\n",
              "      <th>Type</th>\n",
              "      <th></th>\n",
              "      <th></th>\n",
              "      <th></th>\n",
              "      <th></th>\n",
              "      <th></th>\n",
              "      <th></th>\n",
              "      <th></th>\n",
              "      <th></th>\n",
              "      <th></th>\n",
              "      <th></th>\n",
              "      <th></th>\n",
              "      <th></th>\n",
              "      <th></th>\n",
              "      <th></th>\n",
              "      <th></th>\n",
              "      <th></th>\n",
              "      <th></th>\n",
              "      <th></th>\n",
              "      <th></th>\n",
              "      <th></th>\n",
              "      <th></th>\n",
              "      <th></th>\n",
              "      <th></th>\n",
              "      <th></th>\n",
              "    </tr>\n",
              "  </thead>\n",
              "  <tbody>\n",
              "    <tr>\n",
              "      <th>Cycling</th>\n",
              "      <td>29.0</td>\n",
              "      <td>23.468276</td>\n",
              "      <td>9.451040</td>\n",
              "      <td>11.41</td>\n",
              "      <td>15.530</td>\n",
              "      <td>20.300</td>\n",
              "      <td>29.4000</td>\n",
              "      <td>49.18</td>\n",
              "      <td>29.0</td>\n",
              "      <td>240.551724</td>\n",
              "      <td>128.960289</td>\n",
              "      <td>58.0</td>\n",
              "      <td>139.0</td>\n",
              "      <td>199.0</td>\n",
              "      <td>318.0</td>\n",
              "      <td>553.0</td>\n",
              "      <td>29.0</td>\n",
              "      <td>19.125172</td>\n",
              "      <td>3.257100</td>\n",
              "      <td>11.38</td>\n",
              "      <td>16.980</td>\n",
              "      <td>19.50</td>\n",
              "      <td>21.4900</td>\n",
              "      <td>24.33</td>\n",
              "    </tr>\n",
              "    <tr>\n",
              "      <th>Running</th>\n",
              "      <td>459.0</td>\n",
              "      <td>11.382353</td>\n",
              "      <td>4.937853</td>\n",
              "      <td>0.76</td>\n",
              "      <td>7.415</td>\n",
              "      <td>10.810</td>\n",
              "      <td>13.1900</td>\n",
              "      <td>38.32</td>\n",
              "      <td>459.0</td>\n",
              "      <td>124.788671</td>\n",
              "      <td>103.382177</td>\n",
              "      <td>0.0</td>\n",
              "      <td>54.0</td>\n",
              "      <td>91.0</td>\n",
              "      <td>171.0</td>\n",
              "      <td>982.0</td>\n",
              "      <td>459.0</td>\n",
              "      <td>11.056296</td>\n",
              "      <td>0.953273</td>\n",
              "      <td>5.77</td>\n",
              "      <td>10.495</td>\n",
              "      <td>10.98</td>\n",
              "      <td>11.5200</td>\n",
              "      <td>20.72</td>\n",
              "    </tr>\n",
              "    <tr>\n",
              "      <th>Walking</th>\n",
              "      <td>18.0</td>\n",
              "      <td>1.858333</td>\n",
              "      <td>0.880055</td>\n",
              "      <td>1.22</td>\n",
              "      <td>1.385</td>\n",
              "      <td>1.485</td>\n",
              "      <td>1.7875</td>\n",
              "      <td>4.29</td>\n",
              "      <td>18.0</td>\n",
              "      <td>19.388889</td>\n",
              "      <td>27.110100</td>\n",
              "      <td>5.0</td>\n",
              "      <td>7.0</td>\n",
              "      <td>10.0</td>\n",
              "      <td>15.5</td>\n",
              "      <td>112.0</td>\n",
              "      <td>18.0</td>\n",
              "      <td>5.549444</td>\n",
              "      <td>1.459309</td>\n",
              "      <td>1.04</td>\n",
              "      <td>5.555</td>\n",
              "      <td>5.97</td>\n",
              "      <td>6.5125</td>\n",
              "      <td>6.91</td>\n",
              "    </tr>\n",
              "  </tbody>\n",
              "</table>\n",
              "</div>"
            ],
            "text/plain": [
              "        Distance (km)                       ... Average Speed (km/h)                \n",
              "                count       mean       std  ...                  50%      75%    max\n",
              "Type                                        ...                                     \n",
              "Cycling          29.0  23.468276  9.451040  ...                19.50  21.4900  24.33\n",
              "Running         459.0  11.382353  4.937853  ...                10.98  11.5200  20.72\n",
              "Walking          18.0   1.858333  0.880055  ...                 5.97   6.5125   6.91\n",
              "\n",
              "[3 rows x 24 columns]"
            ]
          },
          "metadata": {
            "tags": []
          },
          "execution_count": 60
        }
      ]
    },
    {
      "cell_type": "code",
      "metadata": {
        "id": "igH7HzFo_K0v",
        "colab_type": "code",
        "colab": {
          "base_uri": "https://localhost:8080/",
          "height": 231
        },
        "outputId": "746aa24c-1d48-44c8-fb77-a670f4facfb4"
      },
      "source": [
        "for m in dis_climb_sum:\n",
        "    df_summ[m, 'total'] = df_total[m]\n",
        "df_summ"
      ],
      "execution_count": null,
      "outputs": [
        {
          "output_type": "execute_result",
          "data": {
            "text/html": [
              "<div>\n",
              "<style scoped>\n",
              "    .dataframe tbody tr th:only-of-type {\n",
              "        vertical-align: middle;\n",
              "    }\n",
              "\n",
              "    .dataframe tbody tr th {\n",
              "        vertical-align: top;\n",
              "    }\n",
              "\n",
              "    .dataframe thead tr th {\n",
              "        text-align: left;\n",
              "    }\n",
              "\n",
              "    .dataframe thead tr:last-of-type th {\n",
              "        text-align: right;\n",
              "    }\n",
              "</style>\n",
              "<table border=\"1\" class=\"dataframe\">\n",
              "  <thead>\n",
              "    <tr>\n",
              "      <th></th>\n",
              "      <th colspan=\"8\" halign=\"left\">Distance (km)</th>\n",
              "      <th colspan=\"8\" halign=\"left\">Climb (m)</th>\n",
              "      <th colspan=\"8\" halign=\"left\">Average Speed (km/h)</th>\n",
              "      <th>Distance (km)</th>\n",
              "      <th>Climb (m)</th>\n",
              "    </tr>\n",
              "    <tr>\n",
              "      <th></th>\n",
              "      <th>count</th>\n",
              "      <th>mean</th>\n",
              "      <th>std</th>\n",
              "      <th>min</th>\n",
              "      <th>25%</th>\n",
              "      <th>50%</th>\n",
              "      <th>75%</th>\n",
              "      <th>max</th>\n",
              "      <th>count</th>\n",
              "      <th>mean</th>\n",
              "      <th>std</th>\n",
              "      <th>min</th>\n",
              "      <th>25%</th>\n",
              "      <th>50%</th>\n",
              "      <th>75%</th>\n",
              "      <th>max</th>\n",
              "      <th>count</th>\n",
              "      <th>mean</th>\n",
              "      <th>std</th>\n",
              "      <th>min</th>\n",
              "      <th>25%</th>\n",
              "      <th>50%</th>\n",
              "      <th>75%</th>\n",
              "      <th>max</th>\n",
              "      <th>total</th>\n",
              "      <th>total</th>\n",
              "    </tr>\n",
              "    <tr>\n",
              "      <th>Type</th>\n",
              "      <th></th>\n",
              "      <th></th>\n",
              "      <th></th>\n",
              "      <th></th>\n",
              "      <th></th>\n",
              "      <th></th>\n",
              "      <th></th>\n",
              "      <th></th>\n",
              "      <th></th>\n",
              "      <th></th>\n",
              "      <th></th>\n",
              "      <th></th>\n",
              "      <th></th>\n",
              "      <th></th>\n",
              "      <th></th>\n",
              "      <th></th>\n",
              "      <th></th>\n",
              "      <th></th>\n",
              "      <th></th>\n",
              "      <th></th>\n",
              "      <th></th>\n",
              "      <th></th>\n",
              "      <th></th>\n",
              "      <th></th>\n",
              "      <th></th>\n",
              "      <th></th>\n",
              "    </tr>\n",
              "  </thead>\n",
              "  <tbody>\n",
              "    <tr>\n",
              "      <th>Cycling</th>\n",
              "      <td>29.0</td>\n",
              "      <td>23.468276</td>\n",
              "      <td>9.451040</td>\n",
              "      <td>11.41</td>\n",
              "      <td>15.530</td>\n",
              "      <td>20.300</td>\n",
              "      <td>29.4000</td>\n",
              "      <td>49.18</td>\n",
              "      <td>29.0</td>\n",
              "      <td>240.551724</td>\n",
              "      <td>128.960289</td>\n",
              "      <td>58.0</td>\n",
              "      <td>139.0</td>\n",
              "      <td>199.0</td>\n",
              "      <td>318.0</td>\n",
              "      <td>553.0</td>\n",
              "      <td>29.0</td>\n",
              "      <td>19.125172</td>\n",
              "      <td>3.257100</td>\n",
              "      <td>11.38</td>\n",
              "      <td>16.980</td>\n",
              "      <td>19.50</td>\n",
              "      <td>21.4900</td>\n",
              "      <td>24.33</td>\n",
              "      <td>680.58</td>\n",
              "      <td>6976</td>\n",
              "    </tr>\n",
              "    <tr>\n",
              "      <th>Running</th>\n",
              "      <td>459.0</td>\n",
              "      <td>11.382353</td>\n",
              "      <td>4.937853</td>\n",
              "      <td>0.76</td>\n",
              "      <td>7.415</td>\n",
              "      <td>10.810</td>\n",
              "      <td>13.1900</td>\n",
              "      <td>38.32</td>\n",
              "      <td>459.0</td>\n",
              "      <td>124.788671</td>\n",
              "      <td>103.382177</td>\n",
              "      <td>0.0</td>\n",
              "      <td>54.0</td>\n",
              "      <td>91.0</td>\n",
              "      <td>171.0</td>\n",
              "      <td>982.0</td>\n",
              "      <td>459.0</td>\n",
              "      <td>11.056296</td>\n",
              "      <td>0.953273</td>\n",
              "      <td>5.77</td>\n",
              "      <td>10.495</td>\n",
              "      <td>10.98</td>\n",
              "      <td>11.5200</td>\n",
              "      <td>20.72</td>\n",
              "      <td>5224.50</td>\n",
              "      <td>57278</td>\n",
              "    </tr>\n",
              "    <tr>\n",
              "      <th>Walking</th>\n",
              "      <td>18.0</td>\n",
              "      <td>1.858333</td>\n",
              "      <td>0.880055</td>\n",
              "      <td>1.22</td>\n",
              "      <td>1.385</td>\n",
              "      <td>1.485</td>\n",
              "      <td>1.7875</td>\n",
              "      <td>4.29</td>\n",
              "      <td>18.0</td>\n",
              "      <td>19.388889</td>\n",
              "      <td>27.110100</td>\n",
              "      <td>5.0</td>\n",
              "      <td>7.0</td>\n",
              "      <td>10.0</td>\n",
              "      <td>15.5</td>\n",
              "      <td>112.0</td>\n",
              "      <td>18.0</td>\n",
              "      <td>5.549444</td>\n",
              "      <td>1.459309</td>\n",
              "      <td>1.04</td>\n",
              "      <td>5.555</td>\n",
              "      <td>5.97</td>\n",
              "      <td>6.5125</td>\n",
              "      <td>6.91</td>\n",
              "      <td>33.45</td>\n",
              "      <td>349</td>\n",
              "    </tr>\n",
              "  </tbody>\n",
              "</table>\n",
              "</div>"
            ],
            "text/plain": [
              "        Distance (km)                       ... Average Speed (km/h) Distance (km) Climb (m)\n",
              "                count       mean       std  ...                  max         total     total\n",
              "Type                                        ...                                             \n",
              "Cycling          29.0  23.468276  9.451040  ...                24.33        680.58      6976\n",
              "Running         459.0  11.382353  4.937853  ...                20.72       5224.50     57278\n",
              "Walking          18.0   1.858333  0.880055  ...                 6.91         33.45       349\n",
              "\n",
              "[3 rows x 26 columns]"
            ]
          },
          "metadata": {
            "tags": []
          },
          "execution_count": 61
        }
      ]
    },
    {
      "cell_type": "markdown",
      "metadata": {
        "id": "j7EUKCFhx8iq",
        "colab_type": "text"
      },
      "source": [
        "## **TASK-10**\n",
        "To wrap up, let’s pick some fun facts out of the summary tables and solve the last exercise. This data ( running history) represent 6 years, 2 months and 21 days. the person went through 7 shoes FUN FACTS\n",
        "Average distance: 11.38 km\n",
        "Longest distance: 38.32 km\n",
        "Highest climb: 982 m\n",
        "Total climb: 57,278 m\n",
        "Total number of km run: 5,224 km\n",
        "Total runs: 459\n",
        "Number of running shoes gone through: 7 pairs\n",
        "The story of Forrest Gump is well known–the man, who for no particular reason decided to go for a \"little run.\" His epic run duration was 3 years, 2 months and 14 days (1169 days).\n",
        "Average distance: 21.13 km\n",
        "Total number of km run: 24,700 km\n",
        "Total runs: 1169\n",
        "Number of running shoes gone through: ...\n",
        "Assuming Forest and the person go through running shoes at the same rate, figure out how many pairs of shoes Forrest needed for his run.\n"
      ]
    },
    {
      "cell_type": "code",
      "metadata": {
        "id": "Pb-dH4QT0AQi",
        "colab_type": "code",
        "colab": {}
      },
      "source": [
        "# Count average shoes per lifetime (as km per pair) using our fun facts\n",
        "\n",
        "\n",
        "# Count number of shoes for Forrest's run distance\n",
        "\n",
        "\n"
      ],
      "execution_count": null,
      "outputs": []
    },
    {
      "cell_type": "code",
      "metadata": {
        "id": "p83ZH97_BKRb",
        "colab_type": "code",
        "colab": {
          "base_uri": "https://localhost:8080/",
          "height": 35
        },
        "outputId": "bf161a2a-f781-4b72-fdab-3906d95b733c"
      },
      "source": [
        "shoe_pair_required=(24700*7)//5224\n",
        "print('Forrest Gump would need {} pairs of shoes!'.format(shoe_pair_required))"
      ],
      "execution_count": null,
      "outputs": [
        {
          "output_type": "stream",
          "text": [
            "Forrest Gump would need 33 pairs of shoes!\n"
          ],
          "name": "stdout"
        }
      ]
    }
  ]
}