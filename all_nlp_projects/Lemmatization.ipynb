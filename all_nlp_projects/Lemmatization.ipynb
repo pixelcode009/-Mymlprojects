{
  "nbformat": 4,
  "nbformat_minor": 0,
  "metadata": {
    "colab": {
      "name": "Lemmatization.ipynb",
      "provenance": [],
      "authorship_tag": "ABX9TyP8ICFa1TuLfYoEIyHbGr57",
      "include_colab_link": true
    },
    "kernelspec": {
      "name": "python3",
      "display_name": "Python 3"
    }
  },
  "cells": [
    {
      "cell_type": "markdown",
      "metadata": {
        "id": "view-in-github",
        "colab_type": "text"
      },
      "source": [
        "<a href=\"https://colab.research.google.com/github/pixelcode009/mynlpprojects/blob/master/Lemmatization.ipynb\" target=\"_parent\"><img src=\"https://colab.research.google.com/assets/colab-badge.svg\" alt=\"Open In Colab\"/></a>"
      ]
    },
    {
      "cell_type": "code",
      "metadata": {
        "id": "WuLFXvGl5y5s",
        "colab_type": "code",
        "colab": {
          "base_uri": "https://localhost:8080/",
          "height": 124
        },
        "outputId": "fae87855-b7bd-475c-f843-d5920925e35c"
      },
      "source": [
        "import nltk\n",
        "nltk.download('punkt')\n",
        "nltk.download('stopwords')\n",
        "nltk.download('wordnet')\n",
        "from nltk.stem import WordNetLemmatizer\n",
        "from nltk.corpus import stopwords\n"
      ],
      "execution_count": 1,
      "outputs": [
        {
          "output_type": "stream",
          "text": [
            "[nltk_data] Downloading package punkt to /root/nltk_data...\n",
            "[nltk_data]   Unzipping tokenizers/punkt.zip.\n",
            "[nltk_data] Downloading package stopwords to /root/nltk_data...\n",
            "[nltk_data]   Unzipping corpora/stopwords.zip.\n",
            "[nltk_data] Downloading package wordnet to /root/nltk_data...\n",
            "[nltk_data]   Unzipping corpora/wordnet.zip.\n"
          ],
          "name": "stdout"
        }
      ]
    },
    {
      "cell_type": "code",
      "metadata": {
        "id": "xDaNzBLP7ip0",
        "colab_type": "code",
        "colab": {
          "base_uri": "https://localhost:8080/",
          "height": 88
        },
        "outputId": "2a0bb4dc-ae5f-403f-c5ae-4f30d8ad12ce"
      },
      "source": [
        "para=\"ISRO launched its 100th satellite. Electricity is now in every house in the country. India has the tallest electric  statue in the world. Indian sportspersons are achieving greater heights. \"\n",
        "sentences=nltk.sent_tokenize(para)\n",
        "sentences\n"
      ],
      "execution_count": 2,
      "outputs": [
        {
          "output_type": "execute_result",
          "data": {
            "text/plain": [
              "['ISRO launched its 100th satellite.',\n",
              " 'Electricity is now in every house in the country.',\n",
              " 'India has the tallest electric  statue in the world.',\n",
              " 'Indian sportspersons are achieving greater heights.']"
            ]
          },
          "metadata": {
            "tags": []
          },
          "execution_count": 2
        }
      ]
    },
    {
      "cell_type": "code",
      "metadata": {
        "id": "moft9bX3-h71",
        "colab_type": "code",
        "colab": {
          "base_uri": "https://localhost:8080/",
          "height": 88
        },
        "outputId": "c543212b-7126-4104-e240-45b3d1e32bff"
      },
      "source": [
        "wordnet=WordNetLemmatizer()\n",
        "for i in range (len(sentences)):\n",
        "  words=nltk.word_tokenize(sentences[i])\n",
        "  words=[wordnet.lemmatize(word) for word in words if word not in set(stopwords.words('english'))]\n",
        "  sentences[i]='--'.join(words)\n",
        "\n",
        "sentences"
      ],
      "execution_count": 3,
      "outputs": [
        {
          "output_type": "execute_result",
          "data": {
            "text/plain": [
              "['ISRO--launched--100th--satellite--.',\n",
              " 'Electricity--every--house--country--.',\n",
              " 'India--tallest--electric--statue--world--.',\n",
              " 'Indian--sportspersons--achieving--greater--height--.']"
            ]
          },
          "metadata": {
            "tags": []
          },
          "execution_count": 3
        }
      ]
    },
    {
      "cell_type": "code",
      "metadata": {
        "id": "pFFhvz9iAfew",
        "colab_type": "code",
        "colab": {}
      },
      "source": [
        ""
      ],
      "execution_count": null,
      "outputs": []
    }
  ]
}